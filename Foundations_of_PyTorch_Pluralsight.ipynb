{
  "nbformat": 4,
  "nbformat_minor": 0,
  "metadata": {
    "colab": {
      "name": "Foundations of PyTorch Pluralsight.ipynb",
      "provenance": [],
      "collapsed_sections": [],
      "authorship_tag": "ABX9TyOaOCdonRXJ+pnmUPakBc8L",
      "include_colab_link": true
    },
    "kernelspec": {
      "name": "python3",
      "display_name": "Python 3"
    },
    "accelerator": "GPU"
  },
  "cells": [
    {
      "cell_type": "markdown",
      "metadata": {
        "id": "view-in-github",
        "colab_type": "text"
      },
      "source": [
        "<a href=\"https://colab.research.google.com/github/konradbachusz/Foundations_of_PyTorch_Pluralsight/blob/master/Foundations_of_PyTorch_Pluralsight.ipynb\" target=\"_parent\"><img src=\"https://colab.research.google.com/assets/colab-badge.svg\" alt=\"Open In Colab\"/></a>"
      ]
    },
    {
      "cell_type": "code",
      "metadata": {
        "id": "kcj8Wvog9pav",
        "colab_type": "code",
        "colab": {
          "base_uri": "https://localhost:8080/",
          "height": 104
        },
        "outputId": "353b8866-4e3b-46de-8ca5-c010c5f39798"
      },
      "source": [
        "!pip install torch torchvision"
      ],
      "execution_count": 136,
      "outputs": [
        {
          "output_type": "stream",
          "text": [
            "Requirement already satisfied: torch in /usr/local/lib/python3.6/dist-packages (1.4.0)\n",
            "Requirement already satisfied: torchvision in /usr/local/lib/python3.6/dist-packages (0.5.0)\n",
            "Requirement already satisfied: pillow>=4.1.1 in /usr/local/lib/python3.6/dist-packages (from torchvision) (6.2.2)\n",
            "Requirement already satisfied: six in /usr/local/lib/python3.6/dist-packages (from torchvision) (1.12.0)\n",
            "Requirement already satisfied: numpy in /usr/local/lib/python3.6/dist-packages (from torchvision) (1.17.5)\n"
          ],
          "name": "stdout"
        }
      ]
    },
    {
      "cell_type": "markdown",
      "metadata": {
        "id": "UbebCn7uGDi6",
        "colab_type": "text"
      },
      "source": [
        "# Tensors"
      ]
    },
    {
      "cell_type": "code",
      "metadata": {
        "id": "F6yM9WdmEWxU",
        "colab_type": "code",
        "colab": {
          "base_uri": "https://localhost:8080/",
          "height": 34
        },
        "outputId": "960a6385-5a69-43fc-fc26-f0573ab84c07"
      },
      "source": [
        "import torch\n",
        "print(torch.__version__)"
      ],
      "execution_count": 137,
      "outputs": [
        {
          "output_type": "stream",
          "text": [
            "1.4.0\n"
          ],
          "name": "stdout"
        }
      ]
    },
    {
      "cell_type": "code",
      "metadata": {
        "id": "_HBpHjpsGBg5",
        "colab_type": "code",
        "colab": {
          "base_uri": "https://localhost:8080/",
          "height": 34
        },
        "outputId": "ba3ac373-ca87-440a-e078-748cc0e16b8b"
      },
      "source": [
        "torch.get_default_dtype()"
      ],
      "execution_count": 138,
      "outputs": [
        {
          "output_type": "execute_result",
          "data": {
            "text/plain": [
              "torch.float64"
            ]
          },
          "metadata": {
            "tags": []
          },
          "execution_count": 138
        }
      ]
    },
    {
      "cell_type": "code",
      "metadata": {
        "id": "8tEi84g5GpL5",
        "colab_type": "code",
        "colab": {
          "base_uri": "https://localhost:8080/",
          "height": 34
        },
        "outputId": "4b2f0add-4ca9-4ef1-b753-784c3123700f"
      },
      "source": [
        "torch.set_default_dtype(torch.float64)\n",
        "torch.get_default_dtype()"
      ],
      "execution_count": 139,
      "outputs": [
        {
          "output_type": "execute_result",
          "data": {
            "text/plain": [
              "torch.float64"
            ]
          },
          "metadata": {
            "tags": []
          },
          "execution_count": 139
        }
      ]
    },
    {
      "cell_type": "code",
      "metadata": {
        "id": "56AMg_ItG6Ra",
        "colab_type": "code",
        "colab": {
          "base_uri": "https://localhost:8080/",
          "height": 52
        },
        "outputId": "eb45c91c-54c6-4d1b-d042-2e608bc3ac56"
      },
      "source": [
        "tensor_arr=torch.Tensor([[1,2,3],[4,5,6]])\n",
        "tensor_arr"
      ],
      "execution_count": 140,
      "outputs": [
        {
          "output_type": "execute_result",
          "data": {
            "text/plain": [
              "tensor([[1., 2., 3.],\n",
              "        [4., 5., 6.]])"
            ]
          },
          "metadata": {
            "tags": []
          },
          "execution_count": 140
        }
      ]
    },
    {
      "cell_type": "code",
      "metadata": {
        "id": "YmJ-aPreJnUK",
        "colab_type": "code",
        "colab": {
          "base_uri": "https://localhost:8080/",
          "height": 34
        },
        "outputId": "4b7ba3f1-3b94-42a4-edab-ee55d0b0dc54"
      },
      "source": [
        "torch.numel(tensor_arr)"
      ],
      "execution_count": 141,
      "outputs": [
        {
          "output_type": "execute_result",
          "data": {
            "text/plain": [
              "6"
            ]
          },
          "metadata": {
            "tags": []
          },
          "execution_count": 141
        }
      ]
    },
    {
      "cell_type": "code",
      "metadata": {
        "id": "UFVNTKoNJ6UZ",
        "colab_type": "code",
        "colab": {
          "base_uri": "https://localhost:8080/",
          "height": 52
        },
        "outputId": "46b167ab-52d5-4e6e-8806-5dcea7294f79"
      },
      "source": [
        "tensor_uninitialized=torch.Tensor(2,2)\n",
        "tensor_uninitialized"
      ],
      "execution_count": 142,
      "outputs": [
        {
          "output_type": "execute_result",
          "data": {
            "text/plain": [
              "tensor([[2.9072e-316, 1.5810e-322],\n",
              "        [2.1220e-314, 4.7480e+174]])"
            ]
          },
          "metadata": {
            "tags": []
          },
          "execution_count": 142
        }
      ]
    },
    {
      "cell_type": "code",
      "metadata": {
        "id": "R5g9xCL0KI5o",
        "colab_type": "code",
        "colab": {
          "base_uri": "https://localhost:8080/",
          "height": 52
        },
        "outputId": "f7ce414a-3519-43fe-e299-8bfff01a3653"
      },
      "source": [
        "tensor_initialized=torch.rand(2,2)\n",
        "tensor_initialized"
      ],
      "execution_count": 143,
      "outputs": [
        {
          "output_type": "execute_result",
          "data": {
            "text/plain": [
              "tensor([[0.2298, 0.9656],\n",
              "        [0.5514, 0.2192]])"
            ]
          },
          "metadata": {
            "tags": []
          },
          "execution_count": 143
        }
      ]
    },
    {
      "cell_type": "code",
      "metadata": {
        "id": "zDZPdhBCKV3f",
        "colab_type": "code",
        "colab": {
          "base_uri": "https://localhost:8080/",
          "height": 34
        },
        "outputId": "9a315210-bccc-4c06-bad4-0b1e358deac5"
      },
      "source": [
        "tensor_int=torch.tensor([5,3]).type(torch.IntTensor)\n",
        "tensor_int"
      ],
      "execution_count": 144,
      "outputs": [
        {
          "output_type": "execute_result",
          "data": {
            "text/plain": [
              "tensor([5, 3], dtype=torch.int32)"
            ]
          },
          "metadata": {
            "tags": []
          },
          "execution_count": 144
        }
      ]
    },
    {
      "cell_type": "code",
      "metadata": {
        "id": "WEiyN9kzKn8u",
        "colab_type": "code",
        "colab": {
          "base_uri": "https://localhost:8080/",
          "height": 34
        },
        "outputId": "0ec6f70c-5847-4b54-82a4-0386535a3be3"
      },
      "source": [
        "tensor_short=torch.ShortTensor([1.0,2.0,3.0])\n",
        "tensor_short"
      ],
      "execution_count": 145,
      "outputs": [
        {
          "output_type": "execute_result",
          "data": {
            "text/plain": [
              "tensor([1, 2, 3], dtype=torch.int16)"
            ]
          },
          "metadata": {
            "tags": []
          },
          "execution_count": 145
        }
      ]
    },
    {
      "cell_type": "code",
      "metadata": {
        "id": "MQh8K9hxK9ti",
        "colab_type": "code",
        "colab": {
          "base_uri": "https://localhost:8080/",
          "height": 34
        },
        "outputId": "89daafb1-7d95-444d-ead9-0d2f14cad2d7"
      },
      "source": [
        "tensor_float=torch.tensor([1.0,2.0,3.0]).type(torch.half)\n",
        "tensor_float"
      ],
      "execution_count": 146,
      "outputs": [
        {
          "output_type": "execute_result",
          "data": {
            "text/plain": [
              "tensor([1., 2., 3.], dtype=torch.float16)"
            ]
          },
          "metadata": {
            "tags": []
          },
          "execution_count": 146
        }
      ]
    },
    {
      "cell_type": "code",
      "metadata": {
        "id": "qu7C7f28LHHH",
        "colab_type": "code",
        "colab": {
          "base_uri": "https://localhost:8080/",
          "height": 52
        },
        "outputId": "ecd6c47c-0a77-4845-880c-c792160ffab3"
      },
      "source": [
        "tensor_fill=torch.full((2,6),fill_value=10)\n",
        "tensor_fill"
      ],
      "execution_count": 147,
      "outputs": [
        {
          "output_type": "execute_result",
          "data": {
            "text/plain": [
              "tensor([[10., 10., 10., 10., 10., 10.],\n",
              "        [10., 10., 10., 10., 10., 10.]])"
            ]
          },
          "metadata": {
            "tags": []
          },
          "execution_count": 147
        }
      ]
    },
    {
      "cell_type": "code",
      "metadata": {
        "id": "wpxwaRY9LWsw",
        "colab_type": "code",
        "colab": {
          "base_uri": "https://localhost:8080/",
          "height": 52
        },
        "outputId": "39d1e27d-bf34-4357-d78c-eecab9257ce2"
      },
      "source": [
        "tensor_of_ones=torch.ones([2,4],dtype=torch.int32)\n",
        "tensor_of_ones"
      ],
      "execution_count": 148,
      "outputs": [
        {
          "output_type": "execute_result",
          "data": {
            "text/plain": [
              "tensor([[1, 1, 1, 1],\n",
              "        [1, 1, 1, 1]], dtype=torch.int32)"
            ]
          },
          "metadata": {
            "tags": []
          },
          "execution_count": 148
        }
      ]
    },
    {
      "cell_type": "code",
      "metadata": {
        "id": "iNJkN9vALkXr",
        "colab_type": "code",
        "colab": {
          "base_uri": "https://localhost:8080/",
          "height": 52
        },
        "outputId": "022eb81f-0d47-4319-9d26-55716289adcc"
      },
      "source": [
        "tensor_of_zeros=torch.zeros_like(tensor_of_ones)\n",
        "tensor_of_zeros"
      ],
      "execution_count": 149,
      "outputs": [
        {
          "output_type": "execute_result",
          "data": {
            "text/plain": [
              "tensor([[0, 0, 0, 0],\n",
              "        [0, 0, 0, 0]], dtype=torch.int32)"
            ]
          },
          "metadata": {
            "tags": []
          },
          "execution_count": 149
        }
      ]
    },
    {
      "cell_type": "code",
      "metadata": {
        "id": "233xxbbyLyXr",
        "colab_type": "code",
        "colab": {
          "base_uri": "https://localhost:8080/",
          "height": 104
        },
        "outputId": "30e0efaf-1159-4544-eac8-a6054b078498"
      },
      "source": [
        "tensor_eye=torch.eye(5)\n",
        "tensor_eye"
      ],
      "execution_count": 150,
      "outputs": [
        {
          "output_type": "execute_result",
          "data": {
            "text/plain": [
              "tensor([[1., 0., 0., 0., 0.],\n",
              "        [0., 1., 0., 0., 0.],\n",
              "        [0., 0., 1., 0., 0.],\n",
              "        [0., 0., 0., 1., 0.],\n",
              "        [0., 0., 0., 0., 1.]])"
            ]
          },
          "metadata": {
            "tags": []
          },
          "execution_count": 150
        }
      ]
    },
    {
      "cell_type": "code",
      "metadata": {
        "id": "xKrqcf5RL8Pt",
        "colab_type": "code",
        "colab": {
          "base_uri": "https://localhost:8080/",
          "height": 104
        },
        "outputId": "ce7ae709-8cfd-4ca8-de4b-6d64e9f48eb0"
      },
      "source": [
        "non_zero=torch.nonzero(tensor_eye)\n",
        "non_zero"
      ],
      "execution_count": 151,
      "outputs": [
        {
          "output_type": "execute_result",
          "data": {
            "text/plain": [
              "tensor([[0, 0],\n",
              "        [1, 1],\n",
              "        [2, 2],\n",
              "        [3, 3],\n",
              "        [4, 4]])"
            ]
          },
          "metadata": {
            "tags": []
          },
          "execution_count": 151
        }
      ]
    },
    {
      "cell_type": "code",
      "metadata": {
        "id": "-_J0SIsRMJnC",
        "colab_type": "code",
        "colab": {}
      },
      "source": [
        "i=torch.tensor([[0,1,1],\n",
        "                [2,2,0]])"
      ],
      "execution_count": 0,
      "outputs": []
    },
    {
      "cell_type": "code",
      "metadata": {
        "id": "OVNKikPJMd5l",
        "colab_type": "code",
        "colab": {}
      },
      "source": [
        "v=torch.tensor([3,4,5],dtype=torch.float32)"
      ],
      "execution_count": 0,
      "outputs": []
    },
    {
      "cell_type": "code",
      "metadata": {
        "id": "8J6lSa5QMsQI",
        "colab_type": "code",
        "colab": {}
      },
      "source": [
        "sparse_tensor=torch.sparse_coo_tensor(i,v,[2,5])"
      ],
      "execution_count": 0,
      "outputs": []
    },
    {
      "cell_type": "code",
      "metadata": {
        "id": "eQ0_jtOFM6G_",
        "colab_type": "code",
        "colab": {
          "base_uri": "https://localhost:8080/",
          "height": 86
        },
        "outputId": "04add95e-99d3-4e34-8747-800e51431911"
      },
      "source": [
        "sparse_tensor.data"
      ],
      "execution_count": 155,
      "outputs": [
        {
          "output_type": "execute_result",
          "data": {
            "text/plain": [
              "tensor(indices=tensor([[0, 1, 1],\n",
              "                       [2, 2, 0]]),\n",
              "       values=tensor([3., 4., 5.]),\n",
              "       size=(2, 5), nnz=3, dtype=torch.float32, layout=torch.sparse_coo)"
            ]
          },
          "metadata": {
            "tags": []
          },
          "execution_count": 155
        }
      ]
    },
    {
      "cell_type": "code",
      "metadata": {
        "id": "XWs0Nr5DNDbh",
        "colab_type": "code",
        "colab": {
          "base_uri": "https://localhost:8080/",
          "height": 52
        },
        "outputId": "a4ec1cb2-adec-4900-f08d-48f7658310bb"
      },
      "source": [
        "initial_tensor=torch.rand(2,3)\n",
        "initial_tensor"
      ],
      "execution_count": 156,
      "outputs": [
        {
          "output_type": "execute_result",
          "data": {
            "text/plain": [
              "tensor([[0.8685, 0.6096, 0.3768],\n",
              "        [0.4694, 0.0604, 0.7999]])"
            ]
          },
          "metadata": {
            "tags": []
          },
          "execution_count": 156
        }
      ]
    },
    {
      "cell_type": "code",
      "metadata": {
        "id": "OsJMTNc_Nbwb",
        "colab_type": "code",
        "colab": {
          "base_uri": "https://localhost:8080/",
          "height": 52
        },
        "outputId": "6d76cb45-b1e5-4776-aa01-b961caa973fb"
      },
      "source": [
        "initial_tensor.fill_(10)"
      ],
      "execution_count": 157,
      "outputs": [
        {
          "output_type": "execute_result",
          "data": {
            "text/plain": [
              "tensor([[10., 10., 10.],\n",
              "        [10., 10., 10.]])"
            ]
          },
          "metadata": {
            "tags": []
          },
          "execution_count": 157
        }
      ]
    },
    {
      "cell_type": "code",
      "metadata": {
        "id": "qhM4NEy2Nk_O",
        "colab_type": "code",
        "colab": {
          "base_uri": "https://localhost:8080/",
          "height": 52
        },
        "outputId": "0ecfd684-11b0-44cf-9bf9-54451a953ee3"
      },
      "source": [
        "new_tensor=initial_tensor.add(5)\n",
        "new_tensor"
      ],
      "execution_count": 158,
      "outputs": [
        {
          "output_type": "execute_result",
          "data": {
            "text/plain": [
              "tensor([[15., 15., 15.],\n",
              "        [15., 15., 15.]])"
            ]
          },
          "metadata": {
            "tags": []
          },
          "execution_count": 158
        }
      ]
    },
    {
      "cell_type": "code",
      "metadata": {
        "id": "lI2LWrysNw9Q",
        "colab_type": "code",
        "colab": {
          "base_uri": "https://localhost:8080/",
          "height": 52
        },
        "outputId": "0ece636b-81f9-42dd-83c4-24f7c7956359"
      },
      "source": [
        "new_tensor.sqrt_()\n",
        "new_tensor"
      ],
      "execution_count": 159,
      "outputs": [
        {
          "output_type": "execute_result",
          "data": {
            "text/plain": [
              "tensor([[3.8730, 3.8730, 3.8730],\n",
              "        [3.8730, 3.8730, 3.8730]])"
            ]
          },
          "metadata": {
            "tags": []
          },
          "execution_count": 159
        }
      ]
    },
    {
      "cell_type": "code",
      "metadata": {
        "id": "yopvKcbnOAqm",
        "colab_type": "code",
        "colab": {
          "base_uri": "https://localhost:8080/",
          "height": 52
        },
        "outputId": "3a15d576-b181-4aea-c5db-73e87f556c25"
      },
      "source": [
        "x=torch.linspace(start=0.1,end=10.0,steps=15)\n",
        "x"
      ],
      "execution_count": 160,
      "outputs": [
        {
          "output_type": "execute_result",
          "data": {
            "text/plain": [
              "tensor([ 0.1000,  0.8071,  1.5143,  2.2214,  2.9286,  3.6357,  4.3429,  5.0500,\n",
              "         5.7571,  6.4643,  7.1714,  7.8786,  8.5857,  9.2929, 10.0000])"
            ]
          },
          "metadata": {
            "tags": []
          },
          "execution_count": 160
        }
      ]
    },
    {
      "cell_type": "code",
      "metadata": {
        "id": "41054LTJONSi",
        "colab_type": "code",
        "colab": {
          "base_uri": "https://localhost:8080/",
          "height": 69
        },
        "outputId": "bed9991b-5081-4775-eaf7-17af413f089d"
      },
      "source": [
        "tensor_chunk=torch.chunk(x,3,0)\n",
        "tensor_chunk"
      ],
      "execution_count": 161,
      "outputs": [
        {
          "output_type": "execute_result",
          "data": {
            "text/plain": [
              "(tensor([0.1000, 0.8071, 1.5143, 2.2214, 2.9286]),\n",
              " tensor([3.6357, 4.3429, 5.0500, 5.7571, 6.4643]),\n",
              " tensor([ 7.1714,  7.8786,  8.5857,  9.2929, 10.0000]))"
            ]
          },
          "metadata": {
            "tags": []
          },
          "execution_count": 161
        }
      ]
    },
    {
      "cell_type": "code",
      "metadata": {
        "id": "dcW1Ke-wOham",
        "colab_type": "code",
        "colab": {
          "base_uri": "https://localhost:8080/",
          "height": 52
        },
        "outputId": "46adcd4d-cbb3-4fc7-b8b6-70afd90566ad"
      },
      "source": [
        "tensor1=tensor_chunk[0]\n",
        "tensor2=tensor_chunk[1]\n",
        "tensor3=torch.tensor([3.0,4.0,5.0])\n",
        "\n",
        "torch.cat((tensor1,tensor2,tensor3),0)"
      ],
      "execution_count": 162,
      "outputs": [
        {
          "output_type": "execute_result",
          "data": {
            "text/plain": [
              "tensor([0.1000, 0.8071, 1.5143, 2.2214, 2.9286, 3.6357, 4.3429, 5.0500, 5.7571,\n",
              "        6.4643, 3.0000, 4.0000, 5.0000])"
            ]
          },
          "metadata": {
            "tags": []
          },
          "execution_count": 162
        }
      ]
    },
    {
      "cell_type": "code",
      "metadata": {
        "id": "3vn98PbGPhTU",
        "colab_type": "code",
        "colab": {
          "base_uri": "https://localhost:8080/",
          "height": 69
        },
        "outputId": "8bfd95bf-87b3-46c6-9f5a-af1bf8eaf6a8"
      },
      "source": [
        "random_tensor=torch.Tensor([[10,8,30],[40,5,6],[12,2,21]])\n",
        "random_tensor"
      ],
      "execution_count": 163,
      "outputs": [
        {
          "output_type": "execute_result",
          "data": {
            "text/plain": [
              "tensor([[10.,  8., 30.],\n",
              "        [40.,  5.,  6.],\n",
              "        [12.,  2., 21.]])"
            ]
          },
          "metadata": {
            "tags": []
          },
          "execution_count": 163
        }
      ]
    },
    {
      "cell_type": "code",
      "metadata": {
        "id": "KE1To4BrSLlA",
        "colab_type": "code",
        "colab": {
          "base_uri": "https://localhost:8080/",
          "height": 34
        },
        "outputId": "dee67e92-a23d-494b-d560-2a3e60d262e6"
      },
      "source": [
        "random_tensor[0,1]"
      ],
      "execution_count": 164,
      "outputs": [
        {
          "output_type": "execute_result",
          "data": {
            "text/plain": [
              "tensor(8.)"
            ]
          },
          "metadata": {
            "tags": []
          },
          "execution_count": 164
        }
      ]
    },
    {
      "cell_type": "code",
      "metadata": {
        "id": "QAbfHsTlSR0c",
        "colab_type": "code",
        "colab": {
          "base_uri": "https://localhost:8080/",
          "height": 34
        },
        "outputId": "343959a7-ec4d-4d9a-928a-54d30b3303e4"
      },
      "source": [
        "random_tensor.size()"
      ],
      "execution_count": 165,
      "outputs": [
        {
          "output_type": "execute_result",
          "data": {
            "text/plain": [
              "torch.Size([3, 3])"
            ]
          },
          "metadata": {
            "tags": []
          },
          "execution_count": 165
        }
      ]
    },
    {
      "cell_type": "code",
      "metadata": {
        "id": "xgChpFOaSkln",
        "colab_type": "code",
        "colab": {
          "base_uri": "https://localhost:8080/",
          "height": 34
        },
        "outputId": "65e925aa-3dfb-4600-907c-6a88110a9514"
      },
      "source": [
        "resized_tensor=random_tensor.view(9)\n",
        "resized_tensor"
      ],
      "execution_count": 166,
      "outputs": [
        {
          "output_type": "execute_result",
          "data": {
            "text/plain": [
              "tensor([10.,  8., 30., 40.,  5.,  6., 12.,  2., 21.])"
            ]
          },
          "metadata": {
            "tags": []
          },
          "execution_count": 166
        }
      ]
    },
    {
      "cell_type": "code",
      "metadata": {
        "id": "BSnJ_M9ASsuz",
        "colab_type": "code",
        "colab": {
          "base_uri": "https://localhost:8080/",
          "height": 34
        },
        "outputId": "6f91e0eb-cc6d-4b26-d989-5c4023251f92"
      },
      "source": [
        "random_tensor[2,2]=100.0\n",
        "resized_tensor"
      ],
      "execution_count": 167,
      "outputs": [
        {
          "output_type": "execute_result",
          "data": {
            "text/plain": [
              "tensor([ 10.,   8.,  30.,  40.,   5.,   6.,  12.,   2., 100.])"
            ]
          },
          "metadata": {
            "tags": []
          },
          "execution_count": 167
        }
      ]
    },
    {
      "cell_type": "code",
      "metadata": {
        "id": "eJBwYUz7Z9Yw",
        "colab_type": "code",
        "colab": {
          "base_uri": "https://localhost:8080/",
          "height": 69
        },
        "outputId": "b4189697-0e84-42dd-ef8d-53e97b72a685"
      },
      "source": [
        " random_tensor"
      ],
      "execution_count": 168,
      "outputs": [
        {
          "output_type": "execute_result",
          "data": {
            "text/plain": [
              "tensor([[ 10.,   8.,  30.],\n",
              "        [ 40.,   5.,   6.],\n",
              "        [ 12.,   2., 100.]])"
            ]
          },
          "metadata": {
            "tags": []
          },
          "execution_count": 168
        }
      ]
    },
    {
      "cell_type": "code",
      "metadata": {
        "id": "UKTeKxwsaEK-",
        "colab_type": "code",
        "colab": {
          "base_uri": "https://localhost:8080/",
          "height": 208
        },
        "outputId": "d384d7b1-e8fc-48d0-9fe6-3ca5e2bfac96"
      },
      "source": [
        "tensor_unsqueeze=torch.unsqueeze(random_tensor,2)\n",
        "tensor_unsqueeze"
      ],
      "execution_count": 169,
      "outputs": [
        {
          "output_type": "execute_result",
          "data": {
            "text/plain": [
              "tensor([[[ 10.],\n",
              "         [  8.],\n",
              "         [ 30.]],\n",
              "\n",
              "        [[ 40.],\n",
              "         [  5.],\n",
              "         [  6.]],\n",
              "\n",
              "        [[ 12.],\n",
              "         [  2.],\n",
              "         [100.]]])"
            ]
          },
          "metadata": {
            "tags": []
          },
          "execution_count": 169
        }
      ]
    },
    {
      "cell_type": "code",
      "metadata": {
        "id": "hOcGtoK7aQVH",
        "colab_type": "code",
        "colab": {
          "base_uri": "https://localhost:8080/",
          "height": 69
        },
        "outputId": "fbb93fd8-cac5-42b1-cb73-870fbe2cc5c8"
      },
      "source": [
        "initial_tensor.T"
      ],
      "execution_count": 170,
      "outputs": [
        {
          "output_type": "execute_result",
          "data": {
            "text/plain": [
              "tensor([[10., 10.],\n",
              "        [10., 10.],\n",
              "        [10., 10.]])"
            ]
          },
          "metadata": {
            "tags": []
          },
          "execution_count": 170
        }
      ]
    },
    {
      "cell_type": "code",
      "metadata": {
        "id": "iAOXAXIcaeQf",
        "colab_type": "code",
        "colab": {
          "base_uri": "https://localhost:8080/",
          "height": 69
        },
        "outputId": "9eceed69-7060-42a1-8619-af09352951c6"
      },
      "source": [
        "random_tensor"
      ],
      "execution_count": 171,
      "outputs": [
        {
          "output_type": "execute_result",
          "data": {
            "text/plain": [
              "tensor([[ 10.,   8.,  30.],\n",
              "        [ 40.,   5.,   6.],\n",
              "        [ 12.,   2., 100.]])"
            ]
          },
          "metadata": {
            "tags": []
          },
          "execution_count": 171
        }
      ]
    },
    {
      "cell_type": "code",
      "metadata": {
        "id": "yKEGXVmMa7xH",
        "colab_type": "code",
        "colab": {}
      },
      "source": [
        "sorted_tensor,sorted_indicies=torch.sort(random_tensor)"
      ],
      "execution_count": 0,
      "outputs": []
    },
    {
      "cell_type": "code",
      "metadata": {
        "id": "u5EXMRXBbDNs",
        "colab_type": "code",
        "colab": {
          "base_uri": "https://localhost:8080/",
          "height": 69
        },
        "outputId": "1afb51ae-7044-4c23-d6f4-3da8b97422fc"
      },
      "source": [
        "sorted_tensor"
      ],
      "execution_count": 173,
      "outputs": [
        {
          "output_type": "execute_result",
          "data": {
            "text/plain": [
              "tensor([[  8.,  10.,  30.],\n",
              "        [  5.,   6.,  40.],\n",
              "        [  2.,  12., 100.]])"
            ]
          },
          "metadata": {
            "tags": []
          },
          "execution_count": 173
        }
      ]
    },
    {
      "cell_type": "code",
      "metadata": {
        "id": "Ty1qPDdPcDWX",
        "colab_type": "code",
        "colab": {
          "base_uri": "https://localhost:8080/",
          "height": 69
        },
        "outputId": "c5d3a42a-73ea-4a06-9a75-05b08d7b57ec"
      },
      "source": [
        "sorted_indicies"
      ],
      "execution_count": 174,
      "outputs": [
        {
          "output_type": "execute_result",
          "data": {
            "text/plain": [
              "tensor([[1, 0, 2],\n",
              "        [1, 2, 0],\n",
              "        [1, 0, 2]])"
            ]
          },
          "metadata": {
            "tags": []
          },
          "execution_count": 174
        }
      ]
    },
    {
      "cell_type": "code",
      "metadata": {
        "id": "CiTteNPZcIZP",
        "colab_type": "code",
        "colab": {
          "base_uri": "https://localhost:8080/",
          "height": 34
        },
        "outputId": "556cc1ed-4b98-4f80-f95c-c3c12eee1137"
      },
      "source": [
        "tensor_float=torch.FloatTensor([-1.1,-2.2,3.3])\n",
        "tensor_float"
      ],
      "execution_count": 175,
      "outputs": [
        {
          "output_type": "execute_result",
          "data": {
            "text/plain": [
              "tensor([-1.1000, -2.2000,  3.3000], dtype=torch.float32)"
            ]
          },
          "metadata": {
            "tags": []
          },
          "execution_count": 175
        }
      ]
    },
    {
      "cell_type": "code",
      "metadata": {
        "id": "bU-eZEnaci7M",
        "colab_type": "code",
        "colab": {
          "base_uri": "https://localhost:8080/",
          "height": 34
        },
        "outputId": "b57be98c-62de-41d2-efca-e30102df8932"
      },
      "source": [
        "tensor_abs=torch.abs(tensor_float)\n",
        "tensor_abs"
      ],
      "execution_count": 176,
      "outputs": [
        {
          "output_type": "execute_result",
          "data": {
            "text/plain": [
              "tensor([1.1000, 2.2000, 3.3000], dtype=torch.float32)"
            ]
          },
          "metadata": {
            "tags": []
          },
          "execution_count": 176
        }
      ]
    },
    {
      "cell_type": "code",
      "metadata": {
        "id": "ML98HiT0ctav",
        "colab_type": "code",
        "colab": {}
      },
      "source": [
        "tensor=torch.Tensor([[-1,-2,-3],\n",
        "                     [1,2,3]])"
      ],
      "execution_count": 0,
      "outputs": []
    },
    {
      "cell_type": "code",
      "metadata": {
        "id": "V4qi-ckvdAlC",
        "colab_type": "code",
        "colab": {
          "base_uri": "https://localhost:8080/",
          "height": 52
        },
        "outputId": "60274583-dd66-455e-8390-1c457f05c131"
      },
      "source": [
        "tensor_div=torch.div(tensor,tensor+3)\n",
        "tensor_div"
      ],
      "execution_count": 178,
      "outputs": [
        {
          "output_type": "execute_result",
          "data": {
            "text/plain": [
              "tensor([[-0.5000, -2.0000,    -inf],\n",
              "        [ 0.2500,  0.4000,  0.5000]])"
            ]
          },
          "metadata": {
            "tags": []
          },
          "execution_count": 178
        }
      ]
    },
    {
      "cell_type": "code",
      "metadata": {
        "id": "_-vaph9adJ6q",
        "colab_type": "code",
        "colab": {
          "base_uri": "https://localhost:8080/",
          "height": 52
        },
        "outputId": "d0ef6f7f-0153-46c0-d94d-bf69daf3acc8"
      },
      "source": [
        "#element wise multiplication\n",
        "tensor_mul=torch.mul(tensor,tensor)\n",
        "tensor_mul"
      ],
      "execution_count": 179,
      "outputs": [
        {
          "output_type": "execute_result",
          "data": {
            "text/plain": [
              "tensor([[1., 4., 9.],\n",
              "        [1., 4., 9.]])"
            ]
          },
          "metadata": {
            "tags": []
          },
          "execution_count": 179
        }
      ]
    },
    {
      "cell_type": "code",
      "metadata": {
        "id": "W2YQgKA1eort",
        "colab_type": "code",
        "colab": {
          "base_uri": "https://localhost:8080/",
          "height": 52
        },
        "outputId": "620cb2a8-03fc-452e-eb21-196b1b4f8595"
      },
      "source": [
        "#clamp within minumum and maximum range\n",
        "tensor_clamp=torch.clamp(tensor,min=-0.2,max=2)\n",
        "tensor_clamp"
      ],
      "execution_count": 180,
      "outputs": [
        {
          "output_type": "execute_result",
          "data": {
            "text/plain": [
              "tensor([[-0.2000, -0.2000, -0.2000],\n",
              "        [ 1.0000,  2.0000,  2.0000]])"
            ]
          },
          "metadata": {
            "tags": []
          },
          "execution_count": 180
        }
      ]
    },
    {
      "cell_type": "code",
      "metadata": {
        "id": "D_3fz99se5Wl",
        "colab_type": "code",
        "colab": {
          "base_uri": "https://localhost:8080/",
          "height": 34
        },
        "outputId": "bb523410-424e-4aaf-e78e-a9c429ac9ffb"
      },
      "source": [
        "torch.argmax(tensor_abs)"
      ],
      "execution_count": 181,
      "outputs": [
        {
          "output_type": "execute_result",
          "data": {
            "text/plain": [
              "tensor(2)"
            ]
          },
          "metadata": {
            "tags": []
          },
          "execution_count": 181
        }
      ]
    },
    {
      "cell_type": "markdown",
      "metadata": {
        "id": "GJJDhudWfi8x",
        "colab_type": "text"
      },
      "source": [
        "# Numpy to tensors"
      ]
    },
    {
      "cell_type": "code",
      "metadata": {
        "id": "u44pqoc5faTu",
        "colab_type": "code",
        "colab": {}
      },
      "source": [
        "import numpy as np\n",
        "import torch"
      ],
      "execution_count": 0,
      "outputs": []
    },
    {
      "cell_type": "code",
      "metadata": {
        "id": "Bbbko5DmfsTb",
        "colab_type": "code",
        "colab": {
          "base_uri": "https://localhost:8080/",
          "height": 86
        },
        "outputId": "78911959-7c8d-4eee-9a25-1b1e7a0575e3"
      },
      "source": [
        "tensor=torch.rand(4,3)\n",
        "tensor"
      ],
      "execution_count": 183,
      "outputs": [
        {
          "output_type": "execute_result",
          "data": {
            "text/plain": [
              "tensor([[0.9474, 0.2445, 0.2581],\n",
              "        [0.0142, 0.3756, 0.7239],\n",
              "        [0.4632, 0.6992, 0.9663],\n",
              "        [0.0940, 0.6308, 0.0349]])"
            ]
          },
          "metadata": {
            "tags": []
          },
          "execution_count": 183
        }
      ]
    },
    {
      "cell_type": "code",
      "metadata": {
        "id": "CIbIbmXTgd9s",
        "colab_type": "code",
        "colab": {
          "base_uri": "https://localhost:8080/",
          "height": 86
        },
        "outputId": "ff5d4421-9084-4a07-d183-fd508ddd641e"
      },
      "source": [
        "numpy_from_tensor=tensor.numpy()\n",
        "numpy_from_tensor"
      ],
      "execution_count": 184,
      "outputs": [
        {
          "output_type": "execute_result",
          "data": {
            "text/plain": [
              "array([[0.94738246, 0.24447601, 0.2581481 ],\n",
              "       [0.01418806, 0.37562399, 0.72387555],\n",
              "       [0.46317952, 0.69922031, 0.96627586],\n",
              "       [0.09398368, 0.63076793, 0.03491457]])"
            ]
          },
          "metadata": {
            "tags": []
          },
          "execution_count": 184
        }
      ]
    },
    {
      "cell_type": "code",
      "metadata": {
        "id": "_JIWprVGgqjn",
        "colab_type": "code",
        "colab": {
          "base_uri": "https://localhost:8080/",
          "height": 34
        },
        "outputId": "f7d5d244-22d3-44fc-d8d6-2199b6a1b22f"
      },
      "source": [
        "type(numpy_from_tensor)"
      ],
      "execution_count": 185,
      "outputs": [
        {
          "output_type": "execute_result",
          "data": {
            "text/plain": [
              "numpy.ndarray"
            ]
          },
          "metadata": {
            "tags": []
          },
          "execution_count": 185
        }
      ]
    },
    {
      "cell_type": "code",
      "metadata": {
        "id": "uDAZU5rkTTK_",
        "colab_type": "code",
        "colab": {
          "base_uri": "https://localhost:8080/",
          "height": 34
        },
        "outputId": "f5b2fcf3-43e9-4cb7-816c-11ec163a5d9c"
      },
      "source": [
        "torch.is_tensor(tensor)"
      ],
      "execution_count": 186,
      "outputs": [
        {
          "output_type": "execute_result",
          "data": {
            "text/plain": [
              "True"
            ]
          },
          "metadata": {
            "tags": []
          },
          "execution_count": 186
        }
      ]
    },
    {
      "cell_type": "code",
      "metadata": {
        "id": "_XzEzVHCTpHG",
        "colab_type": "code",
        "colab": {
          "base_uri": "https://localhost:8080/",
          "height": 34
        },
        "outputId": "0c6de62b-223a-48b7-814a-82fca903ad22"
      },
      "source": [
        "torch.is_tensor(numpy_from_tensor)"
      ],
      "execution_count": 187,
      "outputs": [
        {
          "output_type": "execute_result",
          "data": {
            "text/plain": [
              "False"
            ]
          },
          "metadata": {
            "tags": []
          },
          "execution_count": 187
        }
      ]
    },
    {
      "cell_type": "code",
      "metadata": {
        "id": "PzJVLDDfUH1J",
        "colab_type": "code",
        "colab": {
          "base_uri": "https://localhost:8080/",
          "height": 86
        },
        "outputId": "47cdf00b-38c8-4f49-af88-9b42c08a1bd4"
      },
      "source": [
        "numpy_from_tensor[0,0]=100.0\n",
        "numpy_from_tensor"
      ],
      "execution_count": 188,
      "outputs": [
        {
          "output_type": "execute_result",
          "data": {
            "text/plain": [
              "array([[1.00000000e+02, 2.44476014e-01, 2.58148103e-01],\n",
              "       [1.41880593e-02, 3.75623993e-01, 7.23875551e-01],\n",
              "       [4.63179518e-01, 6.99220305e-01, 9.66275858e-01],\n",
              "       [9.39836783e-02, 6.30767927e-01, 3.49145681e-02]])"
            ]
          },
          "metadata": {
            "tags": []
          },
          "execution_count": 188
        }
      ]
    },
    {
      "cell_type": "code",
      "metadata": {
        "id": "B2tx7-lnUP-A",
        "colab_type": "code",
        "colab": {
          "base_uri": "https://localhost:8080/",
          "height": 86
        },
        "outputId": "26a07d68-1ed3-4166-c676-4c78afa054b6"
      },
      "source": [
        "tensor"
      ],
      "execution_count": 189,
      "outputs": [
        {
          "output_type": "execute_result",
          "data": {
            "text/plain": [
              "tensor([[1.0000e+02, 2.4448e-01, 2.5815e-01],\n",
              "        [1.4188e-02, 3.7562e-01, 7.2388e-01],\n",
              "        [4.6318e-01, 6.9922e-01, 9.6628e-01],\n",
              "        [9.3984e-02, 6.3077e-01, 3.4915e-02]])"
            ]
          },
          "metadata": {
            "tags": []
          },
          "execution_count": 189
        }
      ]
    },
    {
      "cell_type": "code",
      "metadata": {
        "id": "5OL0ENC-UXw0",
        "colab_type": "code",
        "colab": {
          "base_uri": "https://localhost:8080/",
          "height": 69
        },
        "outputId": "7ec62c7c-15a7-4f05-8eff-5a7e2d64f3ea"
      },
      "source": [
        "numpy_arr=np.array([[1.0,2.0,3.0],\n",
        "                    [10.0,20.0,30.0],\n",
        "                    [100.0,200.0,300.0]])\n",
        "numpy_arr"
      ],
      "execution_count": 190,
      "outputs": [
        {
          "output_type": "execute_result",
          "data": {
            "text/plain": [
              "array([[  1.,   2.,   3.],\n",
              "       [ 10.,  20.,  30.],\n",
              "       [100., 200., 300.]])"
            ]
          },
          "metadata": {
            "tags": []
          },
          "execution_count": 190
        }
      ]
    },
    {
      "cell_type": "code",
      "metadata": {
        "id": "zRWn1IXBUvMX",
        "colab_type": "code",
        "colab": {
          "base_uri": "https://localhost:8080/",
          "height": 69
        },
        "outputId": "6428ffdb-ef7a-43e0-912c-e923e751477a"
      },
      "source": [
        "tensor_from_numpy=torch.from_numpy(numpy_arr)\n",
        "tensor_from_numpy"
      ],
      "execution_count": 191,
      "outputs": [
        {
          "output_type": "execute_result",
          "data": {
            "text/plain": [
              "tensor([[  1.,   2.,   3.],\n",
              "        [ 10.,  20.,  30.],\n",
              "        [100., 200., 300.]])"
            ]
          },
          "metadata": {
            "tags": []
          },
          "execution_count": 191
        }
      ]
    },
    {
      "cell_type": "code",
      "metadata": {
        "id": "TItWe2r7VFWt",
        "colab_type": "code",
        "colab": {
          "base_uri": "https://localhost:8080/",
          "height": 69
        },
        "outputId": "7ada00ec-5155-430c-c54b-31043d28a018"
      },
      "source": [
        "tensor_from_numpy[0]=1\n",
        "tensor_from_numpy"
      ],
      "execution_count": 192,
      "outputs": [
        {
          "output_type": "execute_result",
          "data": {
            "text/plain": [
              "tensor([[  1.,   1.,   1.],\n",
              "        [ 10.,  20.,  30.],\n",
              "        [100., 200., 300.]])"
            ]
          },
          "metadata": {
            "tags": []
          },
          "execution_count": 192
        }
      ]
    },
    {
      "cell_type": "code",
      "metadata": {
        "id": "yXHIyjpBVag8",
        "colab_type": "code",
        "colab": {
          "base_uri": "https://localhost:8080/",
          "height": 69
        },
        "outputId": "7a1b2ad6-436d-4b04-dfa7-710c42df77ba"
      },
      "source": [
        "numpy_arr"
      ],
      "execution_count": 193,
      "outputs": [
        {
          "output_type": "execute_result",
          "data": {
            "text/plain": [
              "array([[  1.,   1.,   1.],\n",
              "       [ 10.,  20.,  30.],\n",
              "       [100., 200., 300.]])"
            ]
          },
          "metadata": {
            "tags": []
          },
          "execution_count": 193
        }
      ]
    },
    {
      "cell_type": "code",
      "metadata": {
        "id": "KKTS9Z7KVl5O",
        "colab_type": "code",
        "colab": {
          "base_uri": "https://localhost:8080/",
          "height": 34
        },
        "outputId": "fb5f314f-8915-484a-b4cb-f60eb809f13c"
      },
      "source": [
        "np_array_one=np.array([4,8])\n",
        "np_array_one"
      ],
      "execution_count": 194,
      "outputs": [
        {
          "output_type": "execute_result",
          "data": {
            "text/plain": [
              "array([4, 8])"
            ]
          },
          "metadata": {
            "tags": []
          },
          "execution_count": 194
        }
      ]
    },
    {
      "cell_type": "code",
      "metadata": {
        "id": "v5AwHlw0V27x",
        "colab_type": "code",
        "colab": {
          "base_uri": "https://localhost:8080/",
          "height": 34
        },
        "outputId": "07d07aad-0ace-4ff9-e0db-f675c5f20680"
      },
      "source": [
        "tensor_from_array_one=torch.as_tensor(np_array_one)\n",
        "tensor_from_array_one"
      ],
      "execution_count": 195,
      "outputs": [
        {
          "output_type": "execute_result",
          "data": {
            "text/plain": [
              "tensor([4, 8])"
            ]
          },
          "metadata": {
            "tags": []
          },
          "execution_count": 195
        }
      ]
    },
    {
      "cell_type": "code",
      "metadata": {
        "id": "RKFVdNioWNUP",
        "colab_type": "code",
        "colab": {
          "base_uri": "https://localhost:8080/",
          "height": 143
        },
        "outputId": "6af8b774-072e-4cc9-f58c-71b7270e093a"
      },
      "source": [
        "import pandas as pd\n",
        "df = pd.DataFrame(np.array([[1, 2, 3], [4, 5, 6], [7, 8, 9]]),columns=['a', 'b', 'c'])\n",
        "df"
      ],
      "execution_count": 196,
      "outputs": [
        {
          "output_type": "execute_result",
          "data": {
            "text/html": [
              "<div>\n",
              "<style scoped>\n",
              "    .dataframe tbody tr th:only-of-type {\n",
              "        vertical-align: middle;\n",
              "    }\n",
              "\n",
              "    .dataframe tbody tr th {\n",
              "        vertical-align: top;\n",
              "    }\n",
              "\n",
              "    .dataframe thead th {\n",
              "        text-align: right;\n",
              "    }\n",
              "</style>\n",
              "<table border=\"1\" class=\"dataframe\">\n",
              "  <thead>\n",
              "    <tr style=\"text-align: right;\">\n",
              "      <th></th>\n",
              "      <th>a</th>\n",
              "      <th>b</th>\n",
              "      <th>c</th>\n",
              "    </tr>\n",
              "  </thead>\n",
              "  <tbody>\n",
              "    <tr>\n",
              "      <th>0</th>\n",
              "      <td>1</td>\n",
              "      <td>2</td>\n",
              "      <td>3</td>\n",
              "    </tr>\n",
              "    <tr>\n",
              "      <th>1</th>\n",
              "      <td>4</td>\n",
              "      <td>5</td>\n",
              "      <td>6</td>\n",
              "    </tr>\n",
              "    <tr>\n",
              "      <th>2</th>\n",
              "      <td>7</td>\n",
              "      <td>8</td>\n",
              "      <td>9</td>\n",
              "    </tr>\n",
              "  </tbody>\n",
              "</table>\n",
              "</div>"
            ],
            "text/plain": [
              "   a  b  c\n",
              "0  1  2  3\n",
              "1  4  5  6\n",
              "2  7  8  9"
            ]
          },
          "metadata": {
            "tags": []
          },
          "execution_count": 196
        }
      ]
    },
    {
      "cell_type": "code",
      "metadata": {
        "id": "8m-FukeUWbh3",
        "colab_type": "code",
        "colab": {
          "base_uri": "https://localhost:8080/",
          "height": 69
        },
        "outputId": "c6e44ef5-d1bb-47fd-b2c0-8308929f2247"
      },
      "source": [
        "df=df.to_numpy()\n",
        "tensor_from_array_one=torch.as_tensor(df)\n",
        "tensor_from_array_one"
      ],
      "execution_count": 197,
      "outputs": [
        {
          "output_type": "execute_result",
          "data": {
            "text/plain": [
              "tensor([[1, 2, 3],\n",
              "        [4, 5, 6],\n",
              "        [7, 8, 9]])"
            ]
          },
          "metadata": {
            "tags": []
          },
          "execution_count": 197
        }
      ]
    },
    {
      "cell_type": "code",
      "metadata": {
        "id": "qebh7ElTYfP3",
        "colab_type": "code",
        "colab": {
          "base_uri": "https://localhost:8080/",
          "height": 34
        },
        "outputId": "19ea685c-52f5-487a-d680-43087b6507b0"
      },
      "source": [
        "np_array_one[1]=5\n",
        "np_array_one"
      ],
      "execution_count": 198,
      "outputs": [
        {
          "output_type": "execute_result",
          "data": {
            "text/plain": [
              "array([4, 5])"
            ]
          },
          "metadata": {
            "tags": []
          },
          "execution_count": 198
        }
      ]
    },
    {
      "cell_type": "code",
      "metadata": {
        "id": "a1QDUsp4YmHd",
        "colab_type": "code",
        "colab": {
          "base_uri": "https://localhost:8080/",
          "height": 69
        },
        "outputId": "e410d46e-cb2f-4bf6-dade-5ddf67aa911e"
      },
      "source": [
        "tensor_from_array_one"
      ],
      "execution_count": 199,
      "outputs": [
        {
          "output_type": "execute_result",
          "data": {
            "text/plain": [
              "tensor([[1, 2, 3],\n",
              "        [4, 5, 6],\n",
              "        [7, 8, 9]])"
            ]
          },
          "metadata": {
            "tags": []
          },
          "execution_count": 199
        }
      ]
    },
    {
      "cell_type": "code",
      "metadata": {
        "id": "E-BiQwOHYz42",
        "colab_type": "code",
        "colab": {
          "base_uri": "https://localhost:8080/",
          "height": 34
        },
        "outputId": "780b4a79-ac93-4e71-83ff-f4a79d07c138"
      },
      "source": [
        "np_array_two=np.array([2,2])\n",
        "np_array_two"
      ],
      "execution_count": 200,
      "outputs": [
        {
          "output_type": "execute_result",
          "data": {
            "text/plain": [
              "array([2, 2])"
            ]
          },
          "metadata": {
            "tags": []
          },
          "execution_count": 200
        }
      ]
    },
    {
      "cell_type": "code",
      "metadata": {
        "id": "Nb2oG8uiZBy3",
        "colab_type": "code",
        "colab": {
          "base_uri": "https://localhost:8080/",
          "height": 34
        },
        "outputId": "5d41adf0-de6c-4fdb-f236-e25f2ff18d98"
      },
      "source": [
        "tensor_from_array_two=torch.tensor(np_array_two)\n",
        "tensor_from_array_two"
      ],
      "execution_count": 201,
      "outputs": [
        {
          "output_type": "execute_result",
          "data": {
            "text/plain": [
              "tensor([2, 2])"
            ]
          },
          "metadata": {
            "tags": []
          },
          "execution_count": 201
        }
      ]
    },
    {
      "cell_type": "code",
      "metadata": {
        "id": "V7w4QwkUZKTP",
        "colab_type": "code",
        "colab": {
          "base_uri": "https://localhost:8080/",
          "height": 34
        },
        "outputId": "dd181850-42c5-42e0-8970-f957f6e1e741"
      },
      "source": [
        "np_array_two[1]=4\n",
        "np_array_two"
      ],
      "execution_count": 202,
      "outputs": [
        {
          "output_type": "execute_result",
          "data": {
            "text/plain": [
              "array([2, 4])"
            ]
          },
          "metadata": {
            "tags": []
          },
          "execution_count": 202
        }
      ]
    },
    {
      "cell_type": "code",
      "metadata": {
        "id": "vLgQUCa4ZcTi",
        "colab_type": "code",
        "colab": {
          "base_uri": "https://localhost:8080/",
          "height": 34
        },
        "outputId": "77a865d9-505a-4665-ec09-34d28461a70b"
      },
      "source": [
        "tensor_from_array_two"
      ],
      "execution_count": 203,
      "outputs": [
        {
          "output_type": "execute_result",
          "data": {
            "text/plain": [
              "tensor([2, 2])"
            ]
          },
          "metadata": {
            "tags": []
          },
          "execution_count": 203
        }
      ]
    },
    {
      "cell_type": "markdown",
      "metadata": {
        "id": "Wa5XtTo1ZoJU",
        "colab_type": "text"
      },
      "source": [
        "# Working with GPUs"
      ]
    },
    {
      "cell_type": "code",
      "metadata": {
        "id": "21U8r4qOZhfP",
        "colab_type": "code",
        "colab": {
          "base_uri": "https://localhost:8080/",
          "height": 34
        },
        "outputId": "5c822cf3-3054-4d3f-a4ac-5b9452450aaa"
      },
      "source": [
        "torch.cuda.is_available()"
      ],
      "execution_count": 204,
      "outputs": [
        {
          "output_type": "execute_result",
          "data": {
            "text/plain": [
              "True"
            ]
          },
          "metadata": {
            "tags": []
          },
          "execution_count": 204
        }
      ]
    },
    {
      "cell_type": "code",
      "metadata": {
        "id": "kybJc1r6d3nc",
        "colab_type": "code",
        "colab": {
          "base_uri": "https://localhost:8080/",
          "height": 34
        },
        "outputId": "db05cc77-3888-4d7f-f3e2-8e3ec6b4cd45"
      },
      "source": [
        "torch.cuda.current_device()"
      ],
      "execution_count": 205,
      "outputs": [
        {
          "output_type": "execute_result",
          "data": {
            "text/plain": [
              "0"
            ]
          },
          "metadata": {
            "tags": []
          },
          "execution_count": 205
        }
      ]
    },
    {
      "cell_type": "code",
      "metadata": {
        "id": "deO8n_2vdygK",
        "colab_type": "code",
        "colab": {
          "base_uri": "https://localhost:8080/",
          "height": 34
        },
        "outputId": "86599f56-faac-4af6-f72b-ffe1d1a6a306"
      },
      "source": [
        "torch.cuda.device_count()"
      ],
      "execution_count": 206,
      "outputs": [
        {
          "output_type": "execute_result",
          "data": {
            "text/plain": [
              "1"
            ]
          },
          "metadata": {
            "tags": []
          },
          "execution_count": 206
        }
      ]
    },
    {
      "cell_type": "code",
      "metadata": {
        "id": "fJx0fSwldvNW",
        "colab_type": "code",
        "colab": {
          "base_uri": "https://localhost:8080/",
          "height": 34
        },
        "outputId": "0b4a02c9-b01f-4c8c-8bc0-d54fa2965364"
      },
      "source": [
        "torch.cuda.memory_allocated()"
      ],
      "execution_count": 207,
      "outputs": [
        {
          "output_type": "execute_result",
          "data": {
            "text/plain": [
              "1024"
            ]
          },
          "metadata": {
            "tags": []
          },
          "execution_count": 207
        }
      ]
    },
    {
      "cell_type": "code",
      "metadata": {
        "id": "Vnq5pgT5eUW3",
        "colab_type": "code",
        "colab": {
          "base_uri": "https://localhost:8080/",
          "height": 34
        },
        "outputId": "9d4c1954-b5b6-4ef4-c2d3-4f9f59f335d0"
      },
      "source": [
        "torch.cuda.memory_cached()"
      ],
      "execution_count": 208,
      "outputs": [
        {
          "output_type": "execute_result",
          "data": {
            "text/plain": [
              "2097152"
            ]
          },
          "metadata": {
            "tags": []
          },
          "execution_count": 208
        }
      ]
    },
    {
      "cell_type": "code",
      "metadata": {
        "id": "HYGEoUdseaa7",
        "colab_type": "code",
        "colab": {
          "base_uri": "https://localhost:8080/",
          "height": 34
        },
        "outputId": "13ba33c2-301e-4c13-8f5e-d12df6e60f04"
      },
      "source": [
        "cuda=torch.device('cuda')\n",
        "cuda"
      ],
      "execution_count": 209,
      "outputs": [
        {
          "output_type": "execute_result",
          "data": {
            "text/plain": [
              "device(type='cuda')"
            ]
          },
          "metadata": {
            "tags": []
          },
          "execution_count": 209
        }
      ]
    },
    {
      "cell_type": "code",
      "metadata": {
        "id": "r2iY79c5evGC",
        "colab_type": "code",
        "colab": {
          "base_uri": "https://localhost:8080/",
          "height": 34
        },
        "outputId": "d4d2e999-9224-402b-9ecd-c9ee4af00e7e"
      },
      "source": [
        "x=torch.tensor([10.,20.])\n",
        "x"
      ],
      "execution_count": 210,
      "outputs": [
        {
          "output_type": "execute_result",
          "data": {
            "text/plain": [
              "tensor([10., 20.])"
            ]
          },
          "metadata": {
            "tags": []
          },
          "execution_count": 210
        }
      ]
    },
    {
      "cell_type": "code",
      "metadata": {
        "id": "67XNZh_wfAE6",
        "colab_type": "code",
        "colab": {
          "base_uri": "https://localhost:8080/",
          "height": 34
        },
        "outputId": "7931081f-09d5-4a9f-f811-7f6e271644cf"
      },
      "source": [
        "x_default=torch.tensor([10.,20.],device=cuda)\n",
        "x_default"
      ],
      "execution_count": 211,
      "outputs": [
        {
          "output_type": "execute_result",
          "data": {
            "text/plain": [
              "tensor([10., 20.], device='cuda:0')"
            ]
          },
          "metadata": {
            "tags": []
          },
          "execution_count": 211
        }
      ]
    },
    {
      "cell_type": "code",
      "metadata": {
        "id": "LlKvGeVbfpUw",
        "colab_type": "code",
        "colab": {
          "base_uri": "https://localhost:8080/",
          "height": 34
        },
        "outputId": "4120c87a-a2a9-4e45-a447-abcbd3c12439"
      },
      "source": [
        "y=x.cuda()\n",
        "y"
      ],
      "execution_count": 212,
      "outputs": [
        {
          "output_type": "execute_result",
          "data": {
            "text/plain": [
              "tensor([10., 20.], device='cuda:0')"
            ]
          },
          "metadata": {
            "tags": []
          },
          "execution_count": 212
        }
      ]
    },
    {
      "cell_type": "code",
      "metadata": {
        "id": "IwD6Avs1ginr",
        "colab_type": "code",
        "colab": {
          "base_uri": "https://localhost:8080/",
          "height": 34
        },
        "outputId": "3d58d902-9d74-437f-d708-c01ee1cc7b09"
      },
      "source": [
        "torch.cuda.memory_allocated()"
      ],
      "execution_count": 213,
      "outputs": [
        {
          "output_type": "execute_result",
          "data": {
            "text/plain": [
              "2048"
            ]
          },
          "metadata": {
            "tags": []
          },
          "execution_count": 213
        }
      ]
    },
    {
      "cell_type": "code",
      "metadata": {
        "id": "dKnPjhpJlYQO",
        "colab_type": "code",
        "colab": {
          "base_uri": "https://localhost:8080/",
          "height": 34
        },
        "outputId": "ef864c05-4de8-46f3-9376-715964d2e03f"
      },
      "source": [
        "torch.cuda.memory_cached()"
      ],
      "execution_count": 214,
      "outputs": [
        {
          "output_type": "execute_result",
          "data": {
            "text/plain": [
              "2097152"
            ]
          },
          "metadata": {
            "tags": []
          },
          "execution_count": 214
        }
      ]
    },
    {
      "cell_type": "code",
      "metadata": {
        "id": "di_CdgITlqkR",
        "colab_type": "code",
        "colab": {
          "base_uri": "https://localhost:8080/",
          "height": 52
        },
        "outputId": "bc002ce5-78df-435c-e92e-24f3c732ea0a"
      },
      "source": [
        "preserve_context=x.new_full([2,2],fill_value=1.1)\n",
        "preserve_context"
      ],
      "execution_count": 215,
      "outputs": [
        {
          "output_type": "execute_result",
          "data": {
            "text/plain": [
              "tensor([[1.1000, 1.1000],\n",
              "        [1.1000, 1.1000]])"
            ]
          },
          "metadata": {
            "tags": []
          },
          "execution_count": 215
        }
      ]
    },
    {
      "cell_type": "markdown",
      "metadata": {
        "id": "uWFJwRe7qTgN",
        "colab_type": "text"
      },
      "source": [
        "# Autograd"
      ]
    },
    {
      "cell_type": "code",
      "metadata": {
        "id": "cudRTBUNl61i",
        "colab_type": "code",
        "colab": {}
      },
      "source": [
        "tensor1=torch.Tensor([[1,2,3],\n",
        "                     [4,5,6]])"
      ],
      "execution_count": 0,
      "outputs": []
    },
    {
      "cell_type": "code",
      "metadata": {
        "id": "eFzCzS7sqboL",
        "colab_type": "code",
        "colab": {}
      },
      "source": [
        "tensor2=torch.Tensor([[7,8,9],\n",
        "                     [10,11,12]])"
      ],
      "execution_count": 0,
      "outputs": []
    },
    {
      "cell_type": "code",
      "metadata": {
        "id": "Vpd8EATMqoZY",
        "colab_type": "code",
        "colab": {}
      },
      "source": [
        "tensor1.requires_grad=True"
      ],
      "execution_count": 0,
      "outputs": []
    },
    {
      "cell_type": "code",
      "metadata": {
        "id": "mXhHWEKUquPG",
        "colab_type": "code",
        "colab": {
          "base_uri": "https://localhost:8080/",
          "height": 34
        },
        "outputId": "f7acfb56-014e-428b-99f6-704ff34e3dbc"
      },
      "source": [
        "print(tensor1.grad)"
      ],
      "execution_count": 219,
      "outputs": [
        {
          "output_type": "stream",
          "text": [
            "None\n"
          ],
          "name": "stdout"
        }
      ]
    },
    {
      "cell_type": "code",
      "metadata": {
        "id": "XhaYMl-yq9BX",
        "colab_type": "code",
        "colab": {}
      },
      "source": [
        "output_tensor=tensor1*tensor2"
      ],
      "execution_count": 0,
      "outputs": []
    },
    {
      "cell_type": "code",
      "metadata": {
        "id": "Av8_VspDrQaU",
        "colab_type": "code",
        "colab": {
          "base_uri": "https://localhost:8080/",
          "height": 34
        },
        "outputId": "d4b293bf-e941-4a2f-8122-841aad030f15"
      },
      "source": [
        "output_tensor.requires_grad"
      ],
      "execution_count": 221,
      "outputs": [
        {
          "output_type": "execute_result",
          "data": {
            "text/plain": [
              "True"
            ]
          },
          "metadata": {
            "tags": []
          },
          "execution_count": 221
        }
      ]
    },
    {
      "cell_type": "code",
      "metadata": {
        "id": "-NIJUjzQrak1",
        "colab_type": "code",
        "colab": {
          "base_uri": "https://localhost:8080/",
          "height": 34
        },
        "outputId": "940cc2dc-bd7a-4961-91f2-426ae451a7bb"
      },
      "source": [
        "print(output_tensor.grad_fn)"
      ],
      "execution_count": 222,
      "outputs": [
        {
          "output_type": "stream",
          "text": [
            "<MulBackward0 object at 0x7f88b29d3cc0>\n"
          ],
          "name": "stdout"
        }
      ]
    },
    {
      "cell_type": "code",
      "metadata": {
        "id": "BO2lq8wErqgM",
        "colab_type": "code",
        "colab": {
          "base_uri": "https://localhost:8080/",
          "height": 34
        },
        "outputId": "7401d028-71fe-4be8-a4d3-e5a4296e1da2"
      },
      "source": [
        "output_tensor=(tensor1*tensor2).mean()\n",
        "print(output_tensor.grad_fn)\n"
      ],
      "execution_count": 223,
      "outputs": [
        {
          "output_type": "stream",
          "text": [
            "<MeanBackward0 object at 0x7f88b4690a90>\n"
          ],
          "name": "stdout"
        }
      ]
    },
    {
      "cell_type": "code",
      "metadata": {
        "id": "M6P3oszOr5uY",
        "colab_type": "code",
        "colab": {}
      },
      "source": [
        "output_tensor.backward()"
      ],
      "execution_count": 0,
      "outputs": []
    },
    {
      "cell_type": "code",
      "metadata": {
        "id": "0anKY9SosMd4",
        "colab_type": "code",
        "colab": {
          "base_uri": "https://localhost:8080/",
          "height": 52
        },
        "outputId": "a2bb0697-5a4d-44ab-a379-80d3b6670793"
      },
      "source": [
        "print(tensor1.grad)"
      ],
      "execution_count": 225,
      "outputs": [
        {
          "output_type": "stream",
          "text": [
            "tensor([[1.1667, 1.3333, 1.5000],\n",
            "        [1.6667, 1.8333, 2.0000]])\n"
          ],
          "name": "stdout"
        }
      ]
    },
    {
      "cell_type": "code",
      "metadata": {
        "id": "yoEQZT-fsS5Y",
        "colab_type": "code",
        "colab": {
          "base_uri": "https://localhost:8080/",
          "height": 34
        },
        "outputId": "7ed44041-84f6-4d28-b7ef-72e841e638e2"
      },
      "source": [
        "new_tensor=tensor1*3\n",
        "print(new_tensor.requires_grad)"
      ],
      "execution_count": 226,
      "outputs": [
        {
          "output_type": "stream",
          "text": [
            "True\n"
          ],
          "name": "stdout"
        }
      ]
    },
    {
      "cell_type": "code",
      "metadata": {
        "id": "1Gl-Vb6qsiIH",
        "colab_type": "code",
        "colab": {
          "base_uri": "https://localhost:8080/",
          "height": 52
        },
        "outputId": "12fa4d1d-40d4-4a9b-a2d8-b256fbf7f250"
      },
      "source": [
        "new_tensor"
      ],
      "execution_count": 227,
      "outputs": [
        {
          "output_type": "execute_result",
          "data": {
            "text/plain": [
              "tensor([[ 3.,  6.,  9.],\n",
              "        [12., 15., 18.]], grad_fn=<MulBackward0>)"
            ]
          },
          "metadata": {
            "tags": []
          },
          "execution_count": 227
        }
      ]
    },
    {
      "cell_type": "code",
      "metadata": {
        "id": "2G_Ovsomsmav",
        "colab_type": "code",
        "colab": {}
      },
      "source": [
        "def calculate(t):\n",
        "  return t*2"
      ],
      "execution_count": 0,
      "outputs": []
    },
    {
      "cell_type": "code",
      "metadata": {
        "id": "BKhbuOBct9Qk",
        "colab_type": "code",
        "colab": {}
      },
      "source": [
        "@torch.no_grad()\n",
        "def calculate_with_no_grad(t):\n",
        "  return t*2"
      ],
      "execution_count": 0,
      "outputs": []
    },
    {
      "cell_type": "code",
      "metadata": {
        "id": "F8vSvIb6uJGO",
        "colab_type": "code",
        "colab": {
          "base_uri": "https://localhost:8080/",
          "height": 52
        },
        "outputId": "22e57335-c0bb-454d-dd00-d0d77a3032b5"
      },
      "source": [
        "result_tensor=calculate(tensor1)\n",
        "result_tensor"
      ],
      "execution_count": 230,
      "outputs": [
        {
          "output_type": "execute_result",
          "data": {
            "text/plain": [
              "tensor([[ 2.,  4.,  6.],\n",
              "        [ 8., 10., 12.]], grad_fn=<MulBackward0>)"
            ]
          },
          "metadata": {
            "tags": []
          },
          "execution_count": 230
        }
      ]
    },
    {
      "cell_type": "code",
      "metadata": {
        "id": "-2aVsoeeuUKN",
        "colab_type": "code",
        "colab": {
          "base_uri": "https://localhost:8080/",
          "height": 52
        },
        "outputId": "b279515b-a8c1-4d5f-aea2-25c40427015b"
      },
      "source": [
        "result_tensor_no_grad=calculate_with_no_grad(tensor1)\n",
        "result_tensor_no_grad"
      ],
      "execution_count": 231,
      "outputs": [
        {
          "output_type": "execute_result",
          "data": {
            "text/plain": [
              "tensor([[ 2.,  4.,  6.],\n",
              "        [ 8., 10., 12.]])"
            ]
          },
          "metadata": {
            "tags": []
          },
          "execution_count": 231
        }
      ]
    },
    {
      "cell_type": "code",
      "metadata": {
        "id": "ClVX896YujNL",
        "colab_type": "code",
        "colab": {
          "base_uri": "https://localhost:8080/",
          "height": 52
        },
        "outputId": "fca587a7-29a7-4228-be1a-4d71fc72aa70"
      },
      "source": [
        "detached_tensor=tensor1.detach()\n",
        "detached_tensor"
      ],
      "execution_count": 232,
      "outputs": [
        {
          "output_type": "execute_result",
          "data": {
            "text/plain": [
              "tensor([[1., 2., 3.],\n",
              "        [4., 5., 6.]])"
            ]
          },
          "metadata": {
            "tags": []
          },
          "execution_count": 232
        }
      ]
    },
    {
      "cell_type": "markdown",
      "metadata": {
        "id": "obO457hOvlPU",
        "colab_type": "text"
      },
      "source": [
        "# Autograd with Variables"
      ]
    },
    {
      "cell_type": "code",
      "metadata": {
        "id": "XMWX59gDvPtj",
        "colab_type": "code",
        "colab": {}
      },
      "source": [
        "from torch.autograd import Variable"
      ],
      "execution_count": 0,
      "outputs": []
    },
    {
      "cell_type": "code",
      "metadata": {
        "id": "aoO34YHHvq2D",
        "colab_type": "code",
        "colab": {
          "base_uri": "https://localhost:8080/",
          "height": 34
        },
        "outputId": "b24d1f56-5264-4788-e114-a1337ce6acee"
      },
      "source": [
        "var=Variable(torch.FloatTensor([9]))\n",
        "var"
      ],
      "execution_count": 234,
      "outputs": [
        {
          "output_type": "execute_result",
          "data": {
            "text/plain": [
              "tensor([9.], dtype=torch.float32)"
            ]
          },
          "metadata": {
            "tags": []
          },
          "execution_count": 234
        }
      ]
    },
    {
      "cell_type": "markdown",
      "metadata": {
        "id": "9KLqb8XtwJQJ",
        "colab_type": "text"
      },
      "source": [
        "# Simple linear regression"
      ]
    },
    {
      "cell_type": "code",
      "metadata": {
        "id": "LZqJ2txRvzSl",
        "colab_type": "code",
        "colab": {}
      },
      "source": [
        "import matplotlib.pyplot as plt"
      ],
      "execution_count": 0,
      "outputs": []
    },
    {
      "cell_type": "code",
      "metadata": {
        "id": "SxSnLZfWwR7G",
        "colab_type": "code",
        "colab": {}
      },
      "source": [
        "\n",
        "\n",
        "x_train = np.array ([[4.7], [2.4], [7.5], [7.1], [4.3], [7.816], \n",
        "                     [8.9], [5.2], [8.59], [2.1], [8] , \n",
        "                     [10], [4.5], [6], [4]],\n",
        "                    dtype = np.float32)\n",
        "\n",
        "y_train = np.array ([[2.6], [1.6], [3.09], [2.4], [2.4], [3.357], \n",
        "                     [2.6], [1.96], [3.53], [1.76], [3.2] , \n",
        "                     [3.5], [1.6], [2.5], [2.2]], \n",
        "                    dtype = np.float32)\n",
        "\n"
      ],
      "execution_count": 0,
      "outputs": []
    },
    {
      "cell_type": "code",
      "metadata": {
        "id": "oQbO1nWTwprg",
        "colab_type": "code",
        "colab": {
          "base_uri": "https://localhost:8080/",
          "height": 483
        },
        "outputId": "8fcbc153-57df-4475-f105-adb03d62666e"
      },
      "source": [
        "plt.figure(figsize=(12, 8))\n",
        "\n",
        "plt.scatter(x_train, y_train, label='Original data', s=250, c='g')\n",
        "\n",
        "plt.legend()\n",
        "plt.show()"
      ],
      "execution_count": 298,
      "outputs": [
        {
          "output_type": "display_data",
          "data": {
            "image/png": "[encoded data removed]",
            "text/plain": [
              "<Figure size 864x576 with 1 Axes>"
            ]
          },
          "metadata": {
            "tags": []
          }
        }
      ]
    },
    {
      "cell_type": "code",
      "metadata": {
        "id": "9XGPi23Swx2w",
        "colab_type": "code",
        "colab": {
          "base_uri": "https://localhost:8080/",
          "height": 52
        },
        "outputId": "8cae33e1-33ef-4fc0-8ba3-de44a16fa662"
      },
      "source": [
        "\n",
        "\n",
        "X_train = torch.from_numpy(x_train) \n",
        "Y_train = torch.from_numpy(y_train)\n",
        "\n",
        "print('requires_grad for X_train: ', X_train.requires_grad)\n",
        "print('requires_grad for Y_train: ', Y_train.requires_grad)\n",
        "\n"
      ],
      "execution_count": 299,
      "outputs": [
        {
          "output_type": "stream",
          "text": [
            "requires_grad for X_train:  False\n",
            "requires_grad for Y_train:  False\n"
          ],
          "name": "stdout"
        }
      ]
    },
    {
      "cell_type": "code",
      "metadata": {
        "id": "bwz6QUJ7w8e7",
        "colab_type": "code",
        "colab": {}
      },
      "source": [
        "input_size=1\n",
        "hidden_size=1\n",
        "output_size=1"
      ],
      "execution_count": 0,
      "outputs": []
    },
    {
      "cell_type": "code",
      "metadata": {
        "id": "NMCT9NlNxbtK",
        "colab_type": "code",
        "colab": {
          "base_uri": "https://localhost:8080/",
          "height": 34
        },
        "outputId": "5d8a238c-f832-4e21-d39a-a9455d1b540d"
      },
      "source": [
        "w1 = torch.rand(input_size, \n",
        "                hidden_size, \n",
        "                \n",
        "                requires_grad=True)\n",
        "w1.shape"
      ],
      "execution_count": 301,
      "outputs": [
        {
          "output_type": "execute_result",
          "data": {
            "text/plain": [
              "torch.Size([1, 1])"
            ]
          },
          "metadata": {
            "tags": []
          },
          "execution_count": 301
        }
      ]
    },
    {
      "cell_type": "code",
      "metadata": {
        "id": "_yERDtxTxkVR",
        "colab_type": "code",
        "colab": {
          "base_uri": "https://localhost:8080/",
          "height": 34
        },
        "outputId": "044eb0d4-275a-43df-a17e-4b1e4525791c"
      },
      "source": [
        "w2 = torch.rand(hidden_size, \n",
        "                output_size, \n",
        "                \n",
        "                requires_grad=True)\n",
        "w2.shape\n",
        "\n"
      ],
      "execution_count": 302,
      "outputs": [
        {
          "output_type": "execute_result",
          "data": {
            "text/plain": [
              "torch.Size([1, 1])"
            ]
          },
          "metadata": {
            "tags": []
          },
          "execution_count": 302
        }
      ]
    },
    {
      "cell_type": "code",
      "metadata": {
        "id": "JZInIWuf8bMQ",
        "colab_type": "code",
        "colab": {}
      },
      "source": [
        "learning_rate = 1e-6"
      ],
      "execution_count": 0,
      "outputs": []
    },
    {
      "cell_type": "code",
      "metadata": {
        "id": "BwA2HNJX8oUM",
        "colab_type": "code",
        "colab": {
          "base_uri": "https://localhost:8080/",
          "height": 1000
        },
        "outputId": "791b7b61-97c6-469a-a26e-8bbf7d83b8ef"
      },
      "source": [
        "# Start at 10. Change this to 100, 1000 and 3000 and run the code all the way to the plot at the bottom\n",
        "for iter in range(1, 3000):\n",
        "    \n",
        "    y_pred = X_train.mm(w1.float()).mm(w2.float())\n",
        "    loss = (y_pred - Y_train).pow(2).sum()\n",
        "    \n",
        "    if iter % 50 ==0:\n",
        "        print(iter, loss.item())\n",
        "        \n",
        "    loss.backward()\n",
        "    \n",
        "    with torch.no_grad():\n",
        "        w1 -= learning_rate * w1.grad\n",
        "        w2 -= learning_rate * w2.grad\n",
        "        w1.grad.zero_()\n",
        "        w2.grad.zero_()\n",
        "\n"
      ],
      "execution_count": 310,
      "outputs": [
        {
          "output_type": "stream",
          "text": [
            "50 4.089361667633057\n",
            "100 4.089360237121582\n",
            "150 4.089360237121582\n",
            "200 4.089360237121582\n",
            "250 4.089360237121582\n",
            "300 4.089359283447266\n",
            "350 4.089359283447266\n",
            "400 4.089359283447266\n",
            "450 4.089358806610107\n",
            "500 4.089358806610107\n",
            "550 4.089358806610107\n",
            "600 4.089358806610107\n",
            "650 4.089358806610107\n",
            "700 4.089358329772949\n",
            "750 4.089357376098633\n",
            "800 4.089357376098633\n",
            "850 4.089358329772949\n",
            "900 4.089358329772949\n",
            "950 4.089358329772949\n",
            "1000 4.089357376098633\n",
            "1050 4.089357852935791\n",
            "1100 4.089357376098633\n",
            "1150 4.089357852935791\n",
            "1200 4.089356899261475\n",
            "1250 4.089357376098633\n",
            "1300 4.089357852935791\n",
            "1350 4.089357852935791\n",
            "1400 4.089357376098633\n",
            "1450 4.089356899261475\n",
            "1500 4.089357376098633\n",
            "1550 4.089358329772949\n",
            "1600 4.089356899261475\n",
            "1650 4.089357852935791\n",
            "1700 4.089356899261475\n",
            "1750 4.089357376098633\n",
            "1800 4.089356899261475\n",
            "1850 4.089357852935791\n",
            "1900 4.089356899261475\n",
            "1950 4.089357376098633\n",
            "2000 4.089356899261475\n",
            "2050 4.089357376098633\n",
            "2100 4.089357376098633\n",
            "2150 4.089357852935791\n",
            "2200 4.089357376098633\n",
            "2250 4.089357852935791\n",
            "2300 4.089358329772949\n",
            "2350 4.089357376098633\n",
            "2400 4.089357852935791\n",
            "2450 4.089357376098633\n",
            "2500 4.089356899261475\n",
            "2550 4.089356422424316\n",
            "2600 4.089357376098633\n",
            "2650 4.089357376098633\n",
            "2700 4.089358329772949\n",
            "2750 4.089356899261475\n",
            "2800 4.089357852935791\n",
            "2850 4.089356899261475\n",
            "2900 4.089357376098633\n",
            "2950 4.089357376098633\n"
          ],
          "name": "stdout"
        }
      ]
    },
    {
      "cell_type": "code",
      "metadata": {
        "id": "OYIlpP8g-2AH",
        "colab_type": "code",
        "colab": {
          "base_uri": "https://localhost:8080/",
          "height": 52
        },
        "outputId": "5c978dd1-b4a5-43d7-8256-abee34b08fd2"
      },
      "source": [
        "print ('w1: ', w1)\n",
        "print ('w2: ', w2)"
      ],
      "execution_count": 305,
      "outputs": [
        {
          "output_type": "stream",
          "text": [
            "w1:  tensor([[0.5675]], requires_grad=True)\n",
            "w2:  tensor([[0.6987]], requires_grad=True)\n"
          ],
          "name": "stdout"
        }
      ]
    },
    {
      "cell_type": "code",
      "metadata": {
        "id": "jnFjUGRH-6vL",
        "colab_type": "code",
        "colab": {
          "base_uri": "https://localhost:8080/",
          "height": 278
        },
        "outputId": "2ee55985-347a-4c67-e29a-6a7430e990b9"
      },
      "source": [
        "x_train_tensor=torch.from_numpy(x_train)\n",
        "x_train_tensor"
      ],
      "execution_count": 306,
      "outputs": [
        {
          "output_type": "execute_result",
          "data": {
            "text/plain": [
              "tensor([[ 4.7000],\n",
              "        [ 2.4000],\n",
              "        [ 7.5000],\n",
              "        [ 7.1000],\n",
              "        [ 4.3000],\n",
              "        [ 7.8160],\n",
              "        [ 8.9000],\n",
              "        [ 5.2000],\n",
              "        [ 8.5900],\n",
              "        [ 2.1000],\n",
              "        [ 8.0000],\n",
              "        [10.0000],\n",
              "        [ 4.5000],\n",
              "        [ 6.0000],\n",
              "        [ 4.0000]], dtype=torch.float32)"
            ]
          },
          "metadata": {
            "tags": []
          },
          "execution_count": 306
        }
      ]
    },
    {
      "cell_type": "code",
      "metadata": {
        "id": "eTlt73In_KY7",
        "colab_type": "code",
        "colab": {
          "base_uri": "https://localhost:8080/",
          "height": 278
        },
        "outputId": "b96d3657-f637-4762-9367-6783dd2e7bf7"
      },
      "source": [
        "predicted_in_tensor=x_train_tensor.mm(w1.float()).mm(w2.float())\n",
        "predicted_in_tensor"
      ],
      "execution_count": 307,
      "outputs": [
        {
          "output_type": "execute_result",
          "data": {
            "text/plain": [
              "tensor([[1.8638],\n",
              "        [0.9517],\n",
              "        [2.9742],\n",
              "        [2.8156],\n",
              "        [1.7052],\n",
              "        [3.0995],\n",
              "        [3.5294],\n",
              "        [2.0621],\n",
              "        [3.4065],\n",
              "        [0.8328],\n",
              "        [3.1725],\n",
              "        [3.9656],\n",
              "        [1.7845],\n",
              "        [2.3794],\n",
              "        [1.5862]], dtype=torch.float32, grad_fn=<MmBackward>)"
            ]
          },
          "metadata": {
            "tags": []
          },
          "execution_count": 307
        }
      ]
    },
    {
      "cell_type": "code",
      "metadata": {
        "id": "g6jdoz0PAFIT",
        "colab_type": "code",
        "colab": {
          "base_uri": "https://localhost:8080/",
          "height": 278
        },
        "outputId": "f9b61592-8d90-461f-9f99-76098d7d84e1"
      },
      "source": [
        "predicted=predicted_in_tensor.detach().numpy()\n",
        "predicted"
      ],
      "execution_count": 308,
      "outputs": [
        {
          "output_type": "execute_result",
          "data": {
            "text/plain": [
              "array([[1.8638338],\n",
              "       [0.951745 ],\n",
              "       [2.9742029],\n",
              "       [2.8155787],\n",
              "       [1.7052099],\n",
              "       [3.099516 ],\n",
              "       [3.5293872],\n",
              "       [2.062114 ],\n",
              "       [3.4064538],\n",
              "       [0.8327768],\n",
              "       [3.1724832],\n",
              "       [3.9656038],\n",
              "       [1.7845217],\n",
              "       [2.3793623],\n",
              "       [1.5862416]], dtype=float32)"
            ]
          },
          "metadata": {
            "tags": []
          },
          "execution_count": 308
        }
      ]
    },
    {
      "cell_type": "code",
      "metadata": {
        "id": "sZAcyM5bAZEz",
        "colab_type": "code",
        "colab": {
          "base_uri": "https://localhost:8080/",
          "height": 483
        },
        "outputId": "060d62a0-d5b8-404c-dd30-d618e0bc7d02"
      },
      "source": [
        "\n",
        "\n",
        "plt.figure(figsize=(12, 8))\n",
        "\n",
        "plt.scatter(x_train, y_train, label = 'Original data', s=250, c='g') \n",
        "\n",
        "plt.plot(x_train, predicted, label = 'Fitted line ')\n",
        "\n",
        "plt.legend() \n",
        "\n",
        "plt.show()\n",
        "\n"
      ],
      "execution_count": 309,
      "outputs": [
        {
          "output_type": "display_data",
          "data": {
            "image/png": "[encoded data removed]",
            "text/plain": [
              "<Figure size 864x576 with 1 Axes>"
            ]
          },
          "metadata": {
            "tags": []
          }
        }
      ]
    },
    {
      "cell_type": "markdown",
      "metadata": {
        "id": "r5uWRoFVDzlV",
        "colab_type": "text"
      },
      "source": [
        "# Static and dynamic computational graphs"
      ]
    },
    {
      "cell_type": "code",
      "metadata": {
        "id": "fTI9MSkwAzm6",
        "colab_type": "code",
        "colab": {
          "base_uri": "https://localhost:8080/",
          "height": 382
        },
        "outputId": "04cc7604-1be2-485e-b68f-50e574517211"
      },
      "source": [
        "!pip install tensorflow"
      ],
      "execution_count": 311,
      "outputs": [
        {
          "output_type": "stream",
          "text": [
            "Requirement already satisfied: tensorflow in /usr/local/lib/python3.6/dist-packages (1.15.0)\n",
            "Requirement already satisfied: gast==0.2.2 in /usr/local/lib/python3.6/dist-packages (from tensorflow) (0.2.2)\n",
            "Requirement already satisfied: keras-applications>=1.0.8 in /usr/local/lib/python3.6/dist-packages (from tensorflow) (1.0.8)\n",
            "Requirement already satisfied: termcolor>=1.1.0 in /usr/local/lib/python3.6/dist-packages (from tensorflow) (1.1.0)\n",
            "Requirement already satisfied: protobuf>=3.6.1 in /usr/local/lib/python3.6/dist-packages (from tensorflow) (3.10.0)\n",
            "Requirement already satisfied: opt-einsum>=2.3.2 in /usr/local/lib/python3.6/dist-packages (from tensorflow) (3.1.0)\n",
            "Requirement already satisfied: six>=1.10.0 in /usr/local/lib/python3.6/dist-packages (from tensorflow) (1.12.0)\n",
            "Requirement already satisfied: wheel>=0.26 in /usr/local/lib/python3.6/dist-packages (from tensorflow) (0.34.2)\n",
            "Requirement already satisfied: keras-preprocessing>=1.0.5 in /usr/local/lib/python3.6/dist-packages (from tensorflow) (1.1.0)\n",
            "Requirement already satisfied: wrapt>=1.11.1 in /usr/local/lib/python3.6/dist-packages (from tensorflow) (1.11.2)\n",
            "Requirement already satisfied: astor>=0.6.0 in /usr/local/lib/python3.6/dist-packages (from tensorflow) (0.8.1)\n",
            "Requirement already satisfied: grpcio>=1.8.6 in /usr/local/lib/python3.6/dist-packages (from tensorflow) (1.27.1)\n",
            "Requirement already satisfied: absl-py>=0.7.0 in /usr/local/lib/python3.6/dist-packages (from tensorflow) (0.9.0)\n",
            "Requirement already satisfied: google-pasta>=0.1.6 in /usr/local/lib/python3.6/dist-packages (from tensorflow) (0.1.8)\n",
            "Requirement already satisfied: numpy<2.0,>=1.16.0 in /usr/local/lib/python3.6/dist-packages (from tensorflow) (1.17.5)\n",
            "Requirement already satisfied: tensorflow-estimator==1.15.1 in /usr/local/lib/python3.6/dist-packages (from tensorflow) (1.15.1)\n",
            "Requirement already satisfied: tensorboard<1.16.0,>=1.15.0 in /usr/local/lib/python3.6/dist-packages (from tensorflow) (1.15.0)\n",
            "Requirement already satisfied: h5py in /usr/local/lib/python3.6/dist-packages (from keras-applications>=1.0.8->tensorflow) (2.8.0)\n",
            "Requirement already satisfied: setuptools in /usr/local/lib/python3.6/dist-packages (from protobuf>=3.6.1->tensorflow) (45.1.0)\n",
            "Requirement already satisfied: werkzeug>=0.11.15 in /usr/local/lib/python3.6/dist-packages (from tensorboard<1.16.0,>=1.15.0->tensorflow) (1.0.0)\n",
            "Requirement already satisfied: markdown>=2.6.8 in /usr/local/lib/python3.6/dist-packages (from tensorboard<1.16.0,>=1.15.0->tensorflow) (3.2.1)\n"
          ],
          "name": "stdout"
        }
      ]
    },
    {
      "cell_type": "code",
      "metadata": {
        "id": "W8HG2zKaExcs",
        "colab_type": "code",
        "colab": {
          "base_uri": "https://localhost:8080/",
          "height": 34
        },
        "outputId": "6ed9f4cd-ac8a-4baf-eacf-49f453caaa19"
      },
      "source": [
        "!pip install graphviz"
      ],
      "execution_count": 312,
      "outputs": [
        {
          "output_type": "stream",
          "text": [
            "Requirement already satisfied: graphviz in /usr/local/lib/python3.6/dist-packages (0.10.1)\n"
          ],
          "name": "stdout"
        }
      ]
    },
    {
      "cell_type": "code",
      "metadata": {
        "id": "9Aycl7VXE2pb",
        "colab_type": "code",
        "colab": {
          "base_uri": "https://localhost:8080/",
          "height": 86
        },
        "outputId": "ef1603f0-5b25-48d2-d34a-1ac919ddcb8b"
      },
      "source": [
        "!pip install hiddenlayer"
      ],
      "execution_count": 313,
      "outputs": [
        {
          "output_type": "stream",
          "text": [
            "Collecting hiddenlayer\n",
            "  Downloading https://files.pythonhosted.org/packages/b5/80/f284e0441945341c2fe669d70a17277746baf891fe4e517dcbe7784cbf24/hiddenlayer-0.2-py3-none-any.whl\n",
            "Installing collected packages: hiddenlayer\n",
            "Successfully installed hiddenlayer-0.2\n"
          ],
          "name": "stdout"
        }
      ]
    },
    {
      "cell_type": "code",
      "metadata": {
        "id": "41ueaIT3GYcA",
        "colab_type": "code",
        "colab": {}
      },
      "source": [
        "import torch.nn as nn"
      ],
      "execution_count": 0,
      "outputs": []
    },
    {
      "cell_type": "code",
      "metadata": {
        "id": "sGMuDXDuGs4C",
        "colab_type": "code",
        "colab": {}
      },
      "source": [
        "W = torch.randn(6)\n",
        "\n",
        "x = torch.tensor([10.0, 10.0, 10.0, 10.0, 10.0, 10.0])\n",
        "\n",
        "b = torch.tensor(3)"
      ],
      "execution_count": 0,
      "outputs": []
    },
    {
      "cell_type": "code",
      "metadata": {
        "id": "0MhcM1dSG-5D",
        "colab_type": "code",
        "colab": {
          "base_uri": "https://localhost:8080/",
          "height": 34
        },
        "outputId": "b058c846-ec1c-4b23-9087-d572224ff9a3"
      },
      "source": [
        "W"
      ],
      "execution_count": 317,
      "outputs": [
        {
          "output_type": "execute_result",
          "data": {
            "text/plain": [
              "tensor([ 0.8558, -0.0082, -0.9817, -1.0081,  2.2210,  0.3688])"
            ]
          },
          "metadata": {
            "tags": []
          },
          "execution_count": 317
        }
      ]
    },
    {
      "cell_type": "code",
      "metadata": {
        "id": "-pwFIcYmHIBw",
        "colab_type": "code",
        "colab": {
          "base_uri": "https://localhost:8080/",
          "height": 34
        },
        "outputId": "ef9dafee-b3f3-47c8-eea5-992848de725f"
      },
      "source": [
        "y=W*x+b\n",
        "y"
      ],
      "execution_count": 319,
      "outputs": [
        {
          "output_type": "execute_result",
          "data": {
            "text/plain": [
              "tensor([11.5575,  2.9183, -6.8172, -7.0815, 25.2101,  6.6885])"
            ]
          },
          "metadata": {
            "tags": []
          },
          "execution_count": 319
        }
      ]
    },
    {
      "cell_type": "code",
      "metadata": {
        "id": "qrVPITxdHRMT",
        "colab_type": "code",
        "colab": {
          "base_uri": "https://localhost:8080/",
          "height": 34
        },
        "outputId": "2d562528-ae74-4241-b262-10fc6f02cdac"
      },
      "source": [
        "b"
      ],
      "execution_count": 320,
      "outputs": [
        {
          "output_type": "execute_result",
          "data": {
            "text/plain": [
              "tensor(3)"
            ]
          },
          "metadata": {
            "tags": []
          },
          "execution_count": 320
        }
      ]
    },
    {
      "cell_type": "code",
      "metadata": {
        "id": "CkVhN1z1HaVW",
        "colab_type": "code",
        "colab": {}
      },
      "source": [
        "W1 = torch.tensor(6)\n",
        "W2 = torch.tensor(6)\n",
        "W3 = torch.tensor(6)\n",
        "\n",
        "x1 = torch.tensor([2, 2, 2])\n",
        "x2 = torch.tensor([3, 3, 3])\n",
        "x3 = torch.tensor([4, 4, 4])\n",
        "\n",
        "b = torch.tensor(10)"
      ],
      "execution_count": 0,
      "outputs": []
    },
    {
      "cell_type": "code",
      "metadata": {
        "id": "y4Viza0lHhXF",
        "colab_type": "code",
        "colab": {
          "base_uri": "https://localhost:8080/",
          "height": 34
        },
        "outputId": "6adb015a-a0ef-43d3-d74e-5cc2af524f60"
      },
      "source": [
        "intermediate_value = W1 * x1 + W2 * x2\n",
        "\n",
        "intermediate_value"
      ],
      "execution_count": 322,
      "outputs": [
        {
          "output_type": "execute_result",
          "data": {
            "text/plain": [
              "tensor([30, 30, 30])"
            ]
          },
          "metadata": {
            "tags": []
          },
          "execution_count": 322
        }
      ]
    },
    {
      "cell_type": "code",
      "metadata": {
        "id": "BI2RfqW8H1nB",
        "colab_type": "code",
        "colab": {
          "base_uri": "https://localhost:8080/",
          "height": 34
        },
        "outputId": "f8d2718d-2732-4a48-bd8a-e5196d3d0508"
      },
      "source": [
        "final_value = W1 * x1 + W2 * x2 + W3 * x3 + b\n",
        "\n",
        "final_value"
      ],
      "execution_count": 323,
      "outputs": [
        {
          "output_type": "execute_result",
          "data": {
            "text/plain": [
              "tensor([64, 64, 64])"
            ]
          },
          "metadata": {
            "tags": []
          },
          "execution_count": 323
        }
      ]
    },
    {
      "cell_type": "code",
      "metadata": {
        "id": "_fwZrZyEJbqq",
        "colab_type": "code",
        "colab": {
          "base_uri": "https://localhost:8080/",
          "height": 34
        },
        "outputId": "17291291-9b13-47d7-e4b2-292f4fd5ca31"
      },
      "source": [
        "!pip install torch==1.4"
      ],
      "execution_count": 42,
      "outputs": [
        {
          "output_type": "stream",
          "text": [
            "Requirement already satisfied: torch==1.4 in /usr/local/lib/python3.6/dist-packages (1.4.0)\n"
          ],
          "name": "stdout"
        }
      ]
    },
    {
      "cell_type": "code",
      "metadata": {
        "id": "apbb03jnH-pf",
        "colab_type": "code",
        "colab": {}
      },
      "source": [
        "import hiddenlayer as hl\n",
        "import numpy as np\n",
        "import torch"
      ],
      "execution_count": 0,
      "outputs": []
    },
    {
      "cell_type": "code",
      "metadata": {
        "id": "69NoPHcBICCV",
        "colab_type": "code",
        "colab": {}
      },
      "source": [
        "x_train = np.array ([[1.7], [2.5], [5.5], [7.9], [8.8],\n",
        "                     [2.4],[2.4], [8.89], [5], [4.4]],\n",
        "                    dtype = np.float32)\n",
        "\n",
        "y_train = np.array ([[1.9], [2.68], [4.22], [8.19], [9.69],\n",
        "                     [3.4],[2.6], [8.8], [5.6], [4.7]],\n",
        "                    dtype = np.float32)"
      ],
      "execution_count": 0,
      "outputs": []
    },
    {
      "cell_type": "code",
      "metadata": {
        "id": "yiVioMNWIQhw",
        "colab_type": "code",
        "colab": {
          "base_uri": "https://localhost:8080/",
          "height": 34
        },
        "outputId": "bcb9f46d-6006-4782-eea5-ff78378ee952"
      },
      "source": [
        "X_train = torch.tensor(x_train)\n",
        "Y_train = torch.tensor(y_train)\n",
        "\n",
        "X_train.shape"
      ],
      "execution_count": 45,
      "outputs": [
        {
          "output_type": "execute_result",
          "data": {
            "text/plain": [
              "torch.Size([10, 1])"
            ]
          },
          "metadata": {
            "tags": []
          },
          "execution_count": 45
        }
      ]
    },
    {
      "cell_type": "code",
      "metadata": {
        "id": "N5alBs9vITTH",
        "colab_type": "code",
        "colab": {}
      },
      "source": [
        "inp = 1\n",
        "out = 1\n",
        "\n",
        "hid = 100"
      ],
      "execution_count": 0,
      "outputs": []
    },
    {
      "cell_type": "code",
      "metadata": {
        "id": "QGa1y3R7Ibdo",
        "colab_type": "code",
        "colab": {}
      },
      "source": [
        "model1 = torch.nn.Sequential(torch.nn.Linear(inp, hid),\n",
        "                             torch.nn.Linear(hid, out))"
      ],
      "execution_count": 0,
      "outputs": []
    },
    {
      "cell_type": "code",
      "metadata": {
        "id": "rlppLRJOIsZ-",
        "colab_type": "code",
        "colab": {}
      },
      "source": [
        "#hl.build_graph(model1, torch.zeros([1]))"
      ],
      "execution_count": 0,
      "outputs": []
    },
    {
      "cell_type": "code",
      "metadata": {
        "id": "NNpiUKV-I3eD",
        "colab_type": "code",
        "colab": {}
      },
      "source": [
        "\n",
        "\n",
        "model2 = torch.nn.Sequential(torch.nn.Linear(inp, hid),\n",
        "                             torch.nn.Linear(hid, hid),\n",
        "                             torch.nn.Sigmoid(),\n",
        "                             torch.nn.Linear(hid, out))\n",
        "\n"
      ],
      "execution_count": 0,
      "outputs": []
    },
    {
      "cell_type": "code",
      "metadata": {
        "id": "2POZFFgxNgjF",
        "colab_type": "code",
        "colab": {}
      },
      "source": [
        "#hl.build_graph(model2, torch.zeros([10, 1]))"
      ],
      "execution_count": 0,
      "outputs": []
    },
    {
      "cell_type": "code",
      "metadata": {
        "id": "3VGqHwNlNjJP",
        "colab_type": "code",
        "colab": {}
      },
      "source": [
        "inp = 2\n",
        "out = 1\n",
        "\n",
        "hid = 100"
      ],
      "execution_count": 0,
      "outputs": []
    },
    {
      "cell_type": "code",
      "metadata": {
        "id": "pl41d53pNveR",
        "colab_type": "code",
        "colab": {}
      },
      "source": [
        "model3 = torch.nn.Sequential(torch.nn.Linear(inp, hid),\n",
        "                             torch.nn.Linear(hid, hid),\n",
        "                             torch.nn.Sigmoid(),\n",
        "                             torch.nn.Linear(hid, out))"
      ],
      "execution_count": 0,
      "outputs": []
    },
    {
      "cell_type": "code",
      "metadata": {
        "id": "Cn3cw9p3NyxP",
        "colab_type": "code",
        "colab": {
          "base_uri": "https://localhost:8080/",
          "height": 121
        },
        "outputId": "68d84f46-1701-420c-94af-5d3dd0161c59"
      },
      "source": [
        "model3"
      ],
      "execution_count": 55,
      "outputs": [
        {
          "output_type": "execute_result",
          "data": {
            "text/plain": [
              "Sequential(\n",
              "  (0): Linear(in_features=2, out_features=100, bias=True)\n",
              "  (1): Linear(in_features=100, out_features=100, bias=True)\n",
              "  (2): Sigmoid()\n",
              "  (3): Linear(in_features=100, out_features=1, bias=True)\n",
              ")"
            ]
          },
          "metadata": {
            "tags": []
          },
          "execution_count": 55
        }
      ]
    },
    {
      "cell_type": "markdown",
      "metadata": {
        "id": "gAU4jr6nOAYY",
        "colab_type": "text"
      },
      "source": [
        "# Static Computation Graphs"
      ]
    },
    {
      "cell_type": "code",
      "metadata": {
        "id": "RwP-tk82N8KD",
        "colab_type": "code",
        "colab": {
          "base_uri": "https://localhost:8080/",
          "height": 64
        },
        "outputId": "f1770bd3-d8e8-476d-d66c-02f057056cd8"
      },
      "source": [
        "\n",
        "\n",
        "import tensorflow as tf\n",
        "\n"
      ],
      "execution_count": 56,
      "outputs": [
        {
          "output_type": "display_data",
          "data": {
            "text/html": [
              "<p style=\"color: red;\">\n",
              "The default version of TensorFlow in Colab will soon switch to TensorFlow 2.x.<br>\n",
              "We recommend you <a href=\"https://www.tensorflow.org/guide/migrate\" target=\"_blank\">upgrade</a> now \n",
              "or ensure your notebook will continue to use TensorFlow 1.x via the <code>%tensorflow_version 1.x</code> magic:\n",
              "<a href=\"https://colab.research.google.com/notebooks/tensorflow_version.ipynb\" target=\"_blank\">more info</a>.</p>\n"
            ],
            "text/plain": [
              "<IPython.core.display.HTML object>"
            ]
          },
          "metadata": {
            "tags": []
          }
        }
      ]
    },
    {
      "cell_type": "code",
      "metadata": {
        "id": "np3rLJRAOKRy",
        "colab_type": "code",
        "colab": {}
      },
      "source": [
        "W = tf.Variable(6, name = 'var_W') #trainable parameter\n",
        "\n",
        "x = tf.placeholder(tf.int32, shape = [3] ,name = 'x')\n",
        "\n",
        "b = tf.constant(3, name = 'constant_b')"
      ],
      "execution_count": 0,
      "outputs": []
    },
    {
      "cell_type": "code",
      "metadata": {
        "id": "5uxD_kvkOPuG",
        "colab_type": "code",
        "colab": {
          "base_uri": "https://localhost:8080/",
          "height": 34
        },
        "outputId": "0d691e1c-abe5-49a2-f9cf-1df030bc9a58"
      },
      "source": [
        "W"
      ],
      "execution_count": 59,
      "outputs": [
        {
          "output_type": "execute_result",
          "data": {
            "text/plain": [
              "<tf.Variable 'var_W_1:0' shape=() dtype=int32_ref>"
            ]
          },
          "metadata": {
            "tags": []
          },
          "execution_count": 59
        }
      ]
    },
    {
      "cell_type": "code",
      "metadata": {
        "id": "sA-5kc8POrYL",
        "colab_type": "code",
        "colab": {
          "base_uri": "https://localhost:8080/",
          "height": 34
        },
        "outputId": "187bbf2e-5d0f-407b-f506-41f2a94677cf"
      },
      "source": [
        "x"
      ],
      "execution_count": 60,
      "outputs": [
        {
          "output_type": "execute_result",
          "data": {
            "text/plain": [
              "<tf.Tensor 'x_1:0' shape=(3,) dtype=int32>"
            ]
          },
          "metadata": {
            "tags": []
          },
          "execution_count": 60
        }
      ]
    },
    {
      "cell_type": "code",
      "metadata": {
        "id": "i1CcSOXUPAwn",
        "colab_type": "code",
        "colab": {
          "base_uri": "https://localhost:8080/",
          "height": 34
        },
        "outputId": "6233590e-f639-4302-a54c-e31b5610037c"
      },
      "source": [
        "b"
      ],
      "execution_count": 61,
      "outputs": [
        {
          "output_type": "execute_result",
          "data": {
            "text/plain": [
              "<tf.Tensor 'constant_b_1:0' shape=() dtype=int32>"
            ]
          },
          "metadata": {
            "tags": []
          },
          "execution_count": 61
        }
      ]
    },
    {
      "cell_type": "code",
      "metadata": {
        "id": "7A2yVuh-PKDP",
        "colab_type": "code",
        "colab": {
          "base_uri": "https://localhost:8080/",
          "height": 34
        },
        "outputId": "cbe822fa-cbb6-44e3-c115-a1f6eacb9778"
      },
      "source": [
        "y=W*x+b\n",
        "y"
      ],
      "execution_count": 63,
      "outputs": [
        {
          "output_type": "execute_result",
          "data": {
            "text/plain": [
              "<tf.Tensor 'add_1:0' shape=(3,) dtype=int32>"
            ]
          },
          "metadata": {
            "tags": []
          },
          "execution_count": 63
        }
      ]
    },
    {
      "cell_type": "code",
      "metadata": {
        "id": "TcXFJKiiPNxD",
        "colab_type": "code",
        "colab": {}
      },
      "source": [
        "init=tf.global_variables_initializer()"
      ],
      "execution_count": 0,
      "outputs": []
    },
    {
      "cell_type": "code",
      "metadata": {
        "id": "-2p4QMrJPcEY",
        "colab_type": "code",
        "colab": {
          "base_uri": "https://localhost:8080/",
          "height": 34
        },
        "outputId": "4ae937e3-62ef-4ba1-9402-c97aeac6da4d"
      },
      "source": [
        "with tf.Session( )as sess:\n",
        "    sess.run(init)\n",
        "    \n",
        "    y_result = sess.run(y, feed_dict = {x:[10, 20, 30]})\n",
        "    \n",
        "    print(\"Wx+b = \", y_result)"
      ],
      "execution_count": 66,
      "outputs": [
        {
          "output_type": "stream",
          "text": [
            "Wx+b =  [ 63 123 183]\n"
          ],
          "name": "stdout"
        }
      ]
    },
    {
      "cell_type": "code",
      "metadata": {
        "id": "qpPa17NRQJTv",
        "colab_type": "code",
        "colab": {}
      },
      "source": [
        "writer = tf.summary.FileWriter('./graphs', sess.graph)"
      ],
      "execution_count": 0,
      "outputs": []
    },
    {
      "cell_type": "code",
      "metadata": {
        "id": "QB4FH70SQL1Y",
        "colab_type": "code",
        "colab": {}
      },
      "source": [
        "writer.close()"
      ],
      "execution_count": 0,
      "outputs": []
    },
    {
      "cell_type": "code",
      "metadata": {
        "id": "f8GLCOV3QQu7",
        "colab_type": "code",
        "colab": {}
      },
      "source": [
        "graph = tf.get_default_graph()"
      ],
      "execution_count": 0,
      "outputs": []
    },
    {
      "cell_type": "code",
      "metadata": {
        "id": "Tw5Fsq79QTiY",
        "colab_type": "code",
        "colab": {
          "base_uri": "https://localhost:8080/",
          "height": 54
        },
        "outputId": "708ec484-d454-4617-8276-75f815ef6a7a"
      },
      "source": [
        "print(graph.get_operations())"
      ],
      "execution_count": 70,
      "outputs": [
        {
          "output_type": "stream",
          "text": [
            "[<tf.Operation 'var_W/initial_value' type=Const>, <tf.Operation 'var_W' type=VariableV2>, <tf.Operation 'var_W/Assign' type=Assign>, <tf.Operation 'var_W/read' type=Identity>, <tf.Operation 'x' type=Placeholder>, <tf.Operation 'constant_b' type=Const>, <tf.Operation 'var_W_1/initial_value' type=Const>, <tf.Operation 'var_W_1' type=VariableV2>, <tf.Operation 'var_W_1/Assign' type=Assign>, <tf.Operation 'var_W_1/read' type=Identity>, <tf.Operation 'x_1' type=Placeholder>, <tf.Operation 'constant_b_1' type=Const>, <tf.Operation 'mul' type=Mul>, <tf.Operation 'add' type=AddV2>, <tf.Operation 'mul_1' type=Mul>, <tf.Operation 'add_1' type=AddV2>, <tf.Operation 'init' type=NoOp>]\n"
          ],
          "name": "stdout"
        }
      ]
    },
    {
      "cell_type": "code",
      "metadata": {
        "id": "2LFMS4_wQVdb",
        "colab_type": "code",
        "colab": {}
      },
      "source": [
        "#!tensorboard --logdir=graphs"
      ],
      "execution_count": 0,
      "outputs": []
    },
    {
      "cell_type": "markdown",
      "metadata": {
        "id": "0bGVyZQIVCPo",
        "colab_type": "text"
      },
      "source": [
        "# Debugging\n",
        "pytorch\n",
        "pdb\n",
        "pdb.set_trace()\n",
        "\n",
        "tensorflow\n",
        "fetch sensors using session.run(\n",
        "tf.print(\n",
        "tf.assert\n",
        "tf.py_func()\n",
        "tfdbg"
      ]
    },
    {
      "cell_type": "code",
      "metadata": {
        "id": "ChPwmwMAQlme",
        "colab_type": "code",
        "colab": {}
      },
      "source": [
        ""
      ],
      "execution_count": 0,
      "outputs": []
    }
  ]
}